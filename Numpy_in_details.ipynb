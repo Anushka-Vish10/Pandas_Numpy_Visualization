{
  "cells": [
    {
      "cell_type": "markdown",
      "metadata": {
        "id": "6xQoRn9P9wM5"
      },
      "source": [
        "# Numpy Array"
      ]
    },
    {
      "cell_type": "code",
      "execution_count": null,
      "metadata": {
        "id": "4zDRTykT9wNE",
        "outputId": "7963e085-4d57-44eb-a8b0-ac119ba4daeb"
      },
      "outputs": [
        {
          "data": {
            "text/plain": [
              "numpy.ndarray"
            ]
          },
          "execution_count": 2,
          "metadata": {},
          "output_type": "execute_result"
        }
      ],
      "source": [
        "import numpy as np\n",
        "type(np.array([\"vbhvh\", 2, 3]))"
      ]
    },
    {
      "cell_type": "code",
      "execution_count": null,
      "metadata": {
        "id": "6gKTEvUC9wNK"
      },
      "outputs": [],
      "source": [
        "#Upcasting:"
      ]
    },
    {
      "cell_type": "code",
      "execution_count": null,
      "metadata": {
        "id": "iA6lznzu9wNL",
        "outputId": "4ea79db0-edf0-4dc3-c26d-c1a89261bf98"
      },
      "outputs": [
        {
          "data": {
            "text/plain": [
              "array([1., 2., 3.])"
            ]
          },
          "execution_count": 3,
          "metadata": {},
          "output_type": "execute_result"
        }
      ],
      "source": [
        "np.array([1, 2, 3.0])"
      ]
    },
    {
      "cell_type": "code",
      "execution_count": null,
      "metadata": {
        "id": "E0yKdiiw9wNN"
      },
      "outputs": [],
      "source": [
        "#two dimensions"
      ]
    },
    {
      "cell_type": "code",
      "execution_count": null,
      "metadata": {
        "id": "6KvkgoiP9wNP",
        "outputId": "6393ed56-8c7b-4770-dfdd-5e9a18c1707c"
      },
      "outputs": [
        {
          "data": {
            "text/plain": [
              "array([[1, 2],\n",
              "       [3, 4]])"
            ]
          },
          "execution_count": 4,
          "metadata": {},
          "output_type": "execute_result"
        }
      ],
      "source": [
        " np.array([[1, 2], [3, 4]])"
      ]
    },
    {
      "cell_type": "code",
      "execution_count": null,
      "metadata": {
        "id": "KCT3YOth9wNQ"
      },
      "outputs": [],
      "source": [
        "#Minimum dimensions 2:"
      ]
    },
    {
      "cell_type": "code",
      "execution_count": null,
      "metadata": {
        "id": "hPVkQEqw9wNS",
        "outputId": "f3c2423d-60f0-4edf-87fe-01b5276a1446"
      },
      "outputs": [
        {
          "data": {
            "text/plain": [
              "array([[[[[1, 2, 3]]]]])"
            ]
          },
          "execution_count": 6,
          "metadata": {},
          "output_type": "execute_result"
        }
      ],
      "source": [
        "np.array([1, 2, 3], ndmin=5)"
      ]
    },
    {
      "cell_type": "code",
      "execution_count": null,
      "metadata": {
        "id": "NRi0pDGU9wNV"
      },
      "outputs": [],
      "source": [
        "#dtype"
      ]
    },
    {
      "cell_type": "code",
      "execution_count": null,
      "metadata": {
        "id": "wNZAC-ee9wNW",
        "outputId": "17892695-e1b7-4938-ebed-2f2e8cd189a6"
      },
      "outputs": [
        {
          "data": {
            "text/plain": [
              "array([1.+0.j, 2.+0.j, 3.+0.j])"
            ]
          },
          "execution_count": 7,
          "metadata": {},
          "output_type": "execute_result"
        }
      ],
      "source": [
        " np.array([1, 2, 3], dtype=complex)"
      ]
    },
    {
      "cell_type": "code",
      "execution_count": null,
      "metadata": {
        "id": "MZa9rLfj9wNY"
      },
      "outputs": [],
      "source": [
        "#Data-type consisting of more than one element:"
      ]
    },
    {
      "cell_type": "code",
      "execution_count": null,
      "metadata": {
        "id": "MCtskWwr9wNZ",
        "outputId": "608b802e-4dad-4f57-87b3-0d0f12733878"
      },
      "outputs": [
        {
          "data": {
            "text/plain": [
              "array([(1, 2), (3, 4)], dtype=[('a', '<i2'), ('b', '<i8')])"
            ]
          },
          "execution_count": 15,
          "metadata": {},
          "output_type": "execute_result"
        }
      ],
      "source": [
        "x = np.array([(1,2),(3,4)],dtype=[('a','<i2'),('b','<i8')])\n",
        "x"
      ]
    },
    {
      "cell_type": "code",
      "execution_count": null,
      "metadata": {
        "id": "xRYKM9oo9wNb",
        "outputId": "77252cb8-9a1a-4d6c-b4c8-746a464b18f8"
      },
      "outputs": [
        {
          "data": {
            "text/plain": [
              "numpy.int16"
            ]
          },
          "execution_count": 39,
          "metadata": {},
          "output_type": "execute_result"
        }
      ],
      "source": [
        "type(x[1][0])"
      ]
    },
    {
      "cell_type": "code",
      "execution_count": null,
      "metadata": {
        "id": "QqT5gRUc9wNc"
      },
      "outputs": [],
      "source": [
        "\n",
        "#Creating an array from sub-classes:"
      ]
    },
    {
      "cell_type": "code",
      "execution_count": null,
      "metadata": {
        "id": "JtUbuG3Y9wNd",
        "outputId": "620205de-9744-4b3f-b85a-3685155d3e60"
      },
      "outputs": [
        {
          "data": {
            "text/plain": [
              "matrix([[1, 2],\n",
              "        [4, 7]])"
            ]
          },
          "execution_count": 17,
          "metadata": {},
          "output_type": "execute_result"
        }
      ],
      "source": [
        "np.mat(np.array([[1, 2],[4,7]]))"
      ]
    },
    {
      "cell_type": "code",
      "execution_count": null,
      "metadata": {
        "id": "lbPokwWO9wNd",
        "outputId": "9884b849-fd80-4dd9-9d29-826fc403b101"
      },
      "outputs": [
        {
          "data": {
            "text/plain": [
              "matrix([[1, 2],\n",
              "        [3, 4]])"
            ]
          },
          "execution_count": 21,
          "metadata": {},
          "output_type": "execute_result"
        }
      ],
      "source": [
        "np.mat('1 2; 3 4')"
      ]
    },
    {
      "cell_type": "markdown",
      "metadata": {
        "id": "Mix_vnoZ9wNe"
      },
      "source": [
        "# numpy.asarray"
      ]
    },
    {
      "cell_type": "code",
      "execution_count": null,
      "metadata": {
        "id": "l8rWa2909wNg"
      },
      "outputs": [],
      "source": [
        "#Convert the input to an array."
      ]
    },
    {
      "cell_type": "code",
      "execution_count": null,
      "metadata": {
        "collapsed": true,
        "id": "XwrWg3jn9wNh"
      },
      "outputs": [],
      "source": [
        "#Convert a list into an array:"
      ]
    },
    {
      "cell_type": "code",
      "execution_count": null,
      "metadata": {
        "id": "s_QFjfyW9wNi",
        "outputId": "b1ca926a-4ffb-452c-da38-0ff07804277b"
      },
      "outputs": [
        {
          "data": {
            "text/plain": [
              "list"
            ]
          },
          "execution_count": 27,
          "metadata": {},
          "output_type": "execute_result"
        }
      ],
      "source": [
        " a = [1, 2]\n",
        "type(a)"
      ]
    },
    {
      "cell_type": "code",
      "execution_count": null,
      "metadata": {
        "id": "p20Lt0vr9wNk",
        "outputId": "7643bdbb-e1c7-4266-bac3-f62d685c48b8"
      },
      "outputs": [
        {
          "data": {
            "text/plain": [
              "numpy.ndarray"
            ]
          },
          "execution_count": 25,
          "metadata": {},
          "output_type": "execute_result"
        }
      ],
      "source": [
        "type(np.asarray(a))"
      ]
    },
    {
      "cell_type": "code",
      "execution_count": null,
      "metadata": {
        "id": "TGKcvaUw9wNl",
        "outputId": "6c7c4e9d-8dfa-4b88-e133-b6d3c7495cd0"
      },
      "outputs": [
        {
          "data": {
            "text/plain": [
              "numpy.ndarray"
            ]
          },
          "execution_count": 31,
          "metadata": {},
          "output_type": "execute_result"
        }
      ],
      "source": [
        "a = np.array([1, 2]) #Existing arrays are not copied\n",
        "type(a)"
      ]
    },
    {
      "cell_type": "code",
      "execution_count": null,
      "metadata": {
        "id": "YsU-6qiU9wNn",
        "outputId": "3f94a518-d040-4eb2-e8b4-4d17d2d69bd6"
      },
      "outputs": [
        {
          "data": {
            "text/plain": [
              "array([1, 2])"
            ]
          },
          "execution_count": 42,
          "metadata": {},
          "output_type": "execute_result"
        }
      ],
      "source": [
        "np.asarray((1,2))"
      ]
    },
    {
      "cell_type": "code",
      "execution_count": null,
      "metadata": {
        "collapsed": true,
        "id": "3xGdXicw9wNo"
      },
      "outputs": [],
      "source": [
        "#If dtype is set, array is copied only if dtype does not match:"
      ]
    },
    {
      "cell_type": "code",
      "execution_count": null,
      "metadata": {
        "id": "6aSxAyvl9wNp",
        "outputId": "91e88d7d-f97c-4c98-e660-189ccc59890f"
      },
      "outputs": [
        {
          "data": {
            "text/plain": [
              "array([1., 2.], dtype=float32)"
            ]
          },
          "execution_count": 43,
          "metadata": {},
          "output_type": "execute_result"
        }
      ],
      "source": [
        "a = np.array([1, 2], dtype=np.float32)\n",
        "a"
      ]
    },
    {
      "cell_type": "code",
      "execution_count": null,
      "metadata": {
        "id": "DZSDyBZo9wNp",
        "outputId": "42bed74c-98e2-4223-89dd-12af489de753"
      },
      "outputs": [
        {
          "data": {
            "text/plain": [
              "False"
            ]
          },
          "execution_count": 33,
          "metadata": {},
          "output_type": "execute_result"
        }
      ],
      "source": [
        "np.asarray([1,2]) is a"
      ]
    },
    {
      "cell_type": "code",
      "execution_count": null,
      "metadata": {
        "id": "qpEwkQ-c9wNt",
        "outputId": "164f589e-2ea2-46f9-ac03-a86832e519cd"
      },
      "outputs": [
        {
          "data": {
            "text/plain": [
              "array([1, 2])"
            ]
          },
          "execution_count": 36,
          "metadata": {},
          "output_type": "execute_result"
        }
      ],
      "source": [
        "np.asarray([1,2])"
      ]
    },
    {
      "cell_type": "code",
      "execution_count": null,
      "metadata": {
        "id": "CSYALkmL9wNt",
        "outputId": "5a0de3ac-3a10-443f-e103-47a294aa54cc"
      },
      "outputs": [
        {
          "data": {
            "text/plain": [
              "False"
            ]
          },
          "execution_count": 34,
          "metadata": {},
          "output_type": "execute_result"
        }
      ],
      "source": [
        "np.asarray(a, dtype=np.float64) is a"
      ]
    },
    {
      "cell_type": "code",
      "execution_count": null,
      "metadata": {
        "collapsed": true,
        "id": "8461Dkba9wNu"
      },
      "outputs": [],
      "source": [
        "# ndarray subclasses are not passed through"
      ]
    },
    {
      "cell_type": "code",
      "execution_count": null,
      "metadata": {
        "id": "hEFhGV1O9wNv",
        "outputId": "7d91ffc3-9153-4086-d2f2-d5ac0322462f"
      },
      "outputs": [
        {
          "data": {
            "text/plain": [
              "True"
            ]
          },
          "execution_count": 44,
          "metadata": {},
          "output_type": "execute_result"
        }
      ],
      "source": [
        "issubclass(np.matrix, np.ndarray)"
      ]
    },
    {
      "cell_type": "code",
      "execution_count": null,
      "metadata": {
        "id": "Sh927Sur9wNv",
        "outputId": "9ce4415a-eff5-4c35-fb45-beaab5a4019a"
      },
      "outputs": [
        {
          "data": {
            "text/plain": [
              "matrix([[1, 2]])"
            ]
          },
          "execution_count": 48,
          "metadata": {},
          "output_type": "execute_result"
        }
      ],
      "source": [
        "a = np.matrix([[1, 2]])\n",
        "np.asanyarray(a)\n"
      ]
    },
    {
      "cell_type": "code",
      "execution_count": null,
      "metadata": {
        "id": "FphIJJN59wNw",
        "outputId": "31dbd28b-ef14-48a5-ce7a-7b5fec675f64"
      },
      "outputs": [
        {
          "data": {
            "text/plain": [
              "False"
            ]
          },
          "execution_count": 49,
          "metadata": {},
          "output_type": "execute_result"
        }
      ],
      "source": [
        "np.asarray(a) is a"
      ]
    },
    {
      "cell_type": "code",
      "execution_count": null,
      "metadata": {
        "id": "-XEVcGLn9wNx",
        "outputId": "b66263a4-6d2a-47f3-b2b4-c61f417a79de"
      },
      "outputs": [
        {
          "data": {
            "text/plain": [
              "True"
            ]
          },
          "execution_count": 50,
          "metadata": {},
          "output_type": "execute_result"
        }
      ],
      "source": [
        "np.asanyarray(a) is a"
      ]
    },
    {
      "cell_type": "code",
      "execution_count": null,
      "metadata": {
        "id": "dy7Fhckr9wNx",
        "outputId": "7ed05e70-d077-4b49-dc5d-323d19c3b935"
      },
      "outputs": [
        {
          "data": {
            "text/plain": [
              "numpy.ndarray"
            ]
          },
          "execution_count": 51,
          "metadata": {},
          "output_type": "execute_result"
        }
      ],
      "source": [
        "type(np.asarray(a))"
      ]
    },
    {
      "cell_type": "markdown",
      "metadata": {
        "id": "KpT7oKaZ9wNy"
      },
      "source": [
        "# numpy.asanyarray"
      ]
    },
    {
      "cell_type": "code",
      "execution_count": null,
      "metadata": {
        "id": "_pd6TpgZ9wNz",
        "outputId": "80a97a90-9972-4406-cb76-a4839f63af60"
      },
      "outputs": [
        {
          "data": {
            "text/plain": [
              "array([1, 2])"
            ]
          },
          "execution_count": 50,
          "metadata": {},
          "output_type": "execute_result"
        }
      ],
      "source": [
        "a = [1, 2]\n",
        "np.asanyarray(a)"
      ]
    },
    {
      "cell_type": "code",
      "execution_count": null,
      "metadata": {
        "id": "BClvMBnz9wNz",
        "outputId": "0d9555ca-5ffa-497b-ab6c-f322b7bf64af"
      },
      "outputs": [
        {
          "data": {
            "text/plain": [
              "matrix([[1, 2]])"
            ]
          },
          "execution_count": 86,
          "metadata": {},
          "output_type": "execute_result"
        }
      ],
      "source": [
        "a = np.matrix([1, 2])\n",
        "a"
      ]
    },
    {
      "cell_type": "code",
      "execution_count": null,
      "metadata": {
        "id": "7O5nfyWD9wN0",
        "outputId": "d7952a1c-229c-46a2-d793-7becf37336d2"
      },
      "outputs": [
        {
          "data": {
            "text/plain": [
              "True"
            ]
          },
          "execution_count": 52,
          "metadata": {},
          "output_type": "execute_result"
        }
      ],
      "source": [
        "np.asanyarray([1,2]) is a"
      ]
    },
    {
      "cell_type": "raw",
      "metadata": {
        "id": "zelNyHQ99wN1"
      },
      "source": [
        "#numpy.copy"
      ]
    },
    {
      "cell_type": "code",
      "execution_count": null,
      "metadata": {
        "id": "DqMAQvWk9wN1",
        "outputId": "3174c3d7-38b1-448d-ade8-cb3b2b61c02b"
      },
      "outputs": [
        {
          "data": {
            "text/plain": [
              "array([[1, 2]])"
            ]
          },
          "execution_count": 52,
          "metadata": {},
          "output_type": "execute_result"
        }
      ],
      "source": [
        "np.array(a, copy=True)  "
      ]
    },
    {
      "cell_type": "code",
      "execution_count": null,
      "metadata": {
        "collapsed": true,
        "id": "-smDD-bL9wN2"
      },
      "outputs": [],
      "source": [
        "#Create an array x, with a reference y and a copy z:"
      ]
    },
    {
      "cell_type": "code",
      "execution_count": null,
      "metadata": {
        "id": "l65SEsdc9wN3",
        "outputId": "ab04abe7-10be-4967-c525-23c71ec94ba8"
      },
      "outputs": [
        {
          "data": {
            "text/plain": [
              "array([1, 2, 3])"
            ]
          },
          "execution_count": 56,
          "metadata": {},
          "output_type": "execute_result"
        }
      ],
      "source": [
        "x = np.array([1, 2, 3])\n",
        "x\n",
        "y"
      ]
    },
    {
      "cell_type": "code",
      "execution_count": null,
      "metadata": {
        "id": "qHcp0TkF9wN3"
      },
      "outputs": [],
      "source": [
        "y = x"
      ]
    },
    {
      "cell_type": "code",
      "execution_count": null,
      "metadata": {
        "id": "MWbbeJiT9wN4"
      },
      "outputs": [],
      "source": [
        "z = np.copy(x)"
      ]
    },
    {
      "cell_type": "code",
      "execution_count": null,
      "metadata": {
        "id": "k4qQwQw99wN4",
        "outputId": "bc10d3aa-bf66-4e5d-c872-c2d7e0e82d0d"
      },
      "outputs": [
        {
          "data": {
            "text/plain": [
              "array([100,   2,   3])"
            ]
          },
          "execution_count": 64,
          "metadata": {},
          "output_type": "execute_result"
        }
      ],
      "source": [
        "y[0] = 100\n",
        "x"
      ]
    },
    {
      "cell_type": "code",
      "execution_count": null,
      "metadata": {
        "id": "QLRm3HjS9wN5",
        "outputId": "2f7669a6-291f-4173-9754-223b5bada483"
      },
      "outputs": [
        {
          "data": {
            "text/plain": [
              "array([100,   2,   3])"
            ]
          },
          "execution_count": 78,
          "metadata": {},
          "output_type": "execute_result"
        }
      ],
      "source": [
        "x"
      ]
    },
    {
      "cell_type": "code",
      "execution_count": null,
      "metadata": {
        "id": "y5cJUOQz9wN6",
        "outputId": "7ffd10ac-7180-42b4-c8d4-07e616fcd4f7"
      },
      "outputs": [
        {
          "data": {
            "text/plain": [
              "4767545360"
            ]
          },
          "execution_count": 89,
          "metadata": {},
          "output_type": "execute_result"
        }
      ],
      "source": [
        "id(x[0])"
      ]
    },
    {
      "cell_type": "code",
      "execution_count": null,
      "metadata": {
        "id": "Nqoyb9GT9wN6",
        "outputId": "271370ee-d15a-4bd2-a8b8-bfa6d9246ab1"
      },
      "outputs": [
        {
          "data": {
            "text/plain": [
              "4767545408"
            ]
          },
          "execution_count": 91,
          "metadata": {},
          "output_type": "execute_result"
        }
      ],
      "source": [
        "id(y[0])"
      ]
    },
    {
      "cell_type": "code",
      "execution_count": null,
      "metadata": {
        "id": "nN3st6-i9wN7"
      },
      "outputs": [],
      "source": [
        ""
      ]
    },
    {
      "cell_type": "code",
      "execution_count": null,
      "metadata": {
        "id": "6oWzFlgZ9wN7",
        "outputId": "f584a232-4d47-481b-8c3b-5b91f0c33d5a"
      },
      "outputs": [
        {
          "data": {
            "text/plain": [
              "4768156128"
            ]
          },
          "execution_count": 92,
          "metadata": {},
          "output_type": "execute_result"
        }
      ],
      "source": [
        "id(x) "
      ]
    },
    {
      "cell_type": "code",
      "execution_count": null,
      "metadata": {
        "id": "cCjdkPTB9wN8",
        "outputId": "90f89f2d-5c63-4fe2-f11c-4594a2699c68"
      },
      "outputs": [
        {
          "data": {
            "text/plain": [
              "4768156128"
            ]
          },
          "execution_count": 93,
          "metadata": {},
          "output_type": "execute_result"
        }
      ],
      "source": [
        "id(y)"
      ]
    },
    {
      "cell_type": "markdown",
      "metadata": {
        "id": "SZcfJJYq9wN8"
      },
      "source": [
        "# numpy.fromfunction"
      ]
    },
    {
      "cell_type": "code",
      "execution_count": null,
      "metadata": {
        "collapsed": true,
        "id": "nUdD3dUd9wN9"
      },
      "outputs": [],
      "source": [
        "#Construct an array by executing a function over each coordinate."
      ]
    },
    {
      "cell_type": "code",
      "execution_count": null,
      "metadata": {
        "id": "59Q2Vdgr9wN-",
        "outputId": "b73e2962-911a-45e9-ae68-35bb482fa644"
      },
      "outputs": [
        {
          "data": {
            "text/plain": [
              "array([[ True, False, False],\n",
              "       [False,  True, False],\n",
              "       [False, False,  True]])"
            ]
          },
          "execution_count": 94,
          "metadata": {},
          "output_type": "execute_result"
        }
      ],
      "source": [
        "np.fromfunction(lambda i, j: i == j, (3, 3), dtype=int)"
      ]
    },
    {
      "cell_type": "code",
      "execution_count": null,
      "metadata": {
        "id": "QR6ioc-q9wN-",
        "outputId": "a7ee0576-ee9f-4de0-f367-df64052130e7"
      },
      "outputs": [
        {
          "data": {
            "text/plain": [
              "array([[0, 0, 0],\n",
              "       [0, 1, 2],\n",
              "       [0, 2, 4]])"
            ]
          },
          "execution_count": 119,
          "metadata": {},
          "output_type": "execute_result"
        }
      ],
      "source": [
        "np.fromfunction(lambda i, j: i * j, (3, 3), dtype=int)"
      ]
    },
    {
      "cell_type": "code",
      "execution_count": null,
      "metadata": {
        "collapsed": true,
        "id": "MjP0SI1h9wN_"
      },
      "outputs": [],
      "source": [
        "#Create a new 1-dimensional array from an iterable object."
      ]
    },
    {
      "cell_type": "code",
      "execution_count": null,
      "metadata": {
        "id": "ON-SA8Vx9wN_",
        "outputId": "bb1efcb6-d4dd-475d-cad5-cbc3e8b63446"
      },
      "outputs": [
        {
          "data": {
            "text/plain": [
              "<generator object <genexpr> at 0x11c326b10>"
            ]
          },
          "execution_count": 97,
          "metadata": {},
          "output_type": "execute_result"
        }
      ],
      "source": [
        "iterable = (x*x for x in range(5))\n",
        "iterable"
      ]
    },
    {
      "cell_type": "code",
      "execution_count": null,
      "metadata": {
        "id": "6vodGPv79wOA",
        "outputId": "68f92e00-af1c-4a1a-93d7-c7caa061c7a8"
      },
      "outputs": [
        {
          "data": {
            "text/plain": [
              "array([ 0.,  1.,  4.,  9., 16.])"
            ]
          },
          "execution_count": 98,
          "metadata": {},
          "output_type": "execute_result"
        }
      ],
      "source": [
        "np.fromiter(iterable, float)"
      ]
    },
    {
      "cell_type": "code",
      "execution_count": null,
      "metadata": {
        "collapsed": true,
        "id": "0B5N2AGW9wOB"
      },
      "outputs": [],
      "source": [
        "#A new 1-D array initialized from text data in a string"
      ]
    },
    {
      "cell_type": "code",
      "execution_count": null,
      "metadata": {
        "id": "GvKPFOq19wOC",
        "outputId": "1445ae66-f316-4916-aeb6-cf097d08e4f5"
      },
      "outputs": [
        {
          "data": {
            "text/plain": [
              "array([234., 234.])"
            ]
          },
          "execution_count": 101,
          "metadata": {},
          "output_type": "execute_result"
        }
      ],
      "source": [
        "a = np.fromstring('234 234',sep=' ') # fromiter if try to generate data and try to convert that in term of array\n",
        "a"
      ]
    },
    {
      "cell_type": "code",
      "execution_count": null,
      "metadata": {
        "id": "UfhST-jZ9wOC",
        "outputId": "961827d0-00dc-4448-cf6a-0a31e6a9eb20"
      },
      "outputs": [
        {
          "data": {
            "text/plain": [
              "array([1, 2])"
            ]
          },
          "execution_count": 102,
          "metadata": {},
          "output_type": "execute_result"
        }
      ],
      "source": [
        "np.fromstring('1, 2', dtype=int, sep=',')"
      ]
    },
    {
      "cell_type": "code",
      "execution_count": null,
      "metadata": {
        "collapsed": true,
        "id": "KcnfzxPr9wOD"
      },
      "outputs": [],
      "source": [
        "# How to create create a record array from a (flat) list of arrays"
      ]
    },
    {
      "cell_type": "code",
      "execution_count": null,
      "metadata": {
        "id": "es5Ob6sS9wOE"
      },
      "outputs": [],
      "source": [
        "x1=np.array([1,2,3,4])"
      ]
    },
    {
      "cell_type": "code",
      "execution_count": null,
      "metadata": {
        "id": "q8L1tcip9wOE"
      },
      "outputs": [],
      "source": [
        "x2=np.array(['a','dd','xyz','12'])"
      ]
    },
    {
      "cell_type": "code",
      "execution_count": null,
      "metadata": {
        "id": "pNeEnuyY9wOF",
        "outputId": "10b90962-57c8-4464-e413-3edde594a062"
      },
      "outputs": [
        {
          "data": {
            "text/plain": [
              "numpy.ndarray"
            ]
          },
          "execution_count": 117,
          "metadata": {},
          "output_type": "execute_result"
        }
      ],
      "source": [
        "x3=np.array([1.1,2,3,4])\n",
        "x4=np.array([1.1,2,3,4])\n",
        "type(x4)"
      ]
    },
    {
      "cell_type": "code",
      "execution_count": null,
      "metadata": {
        "id": "qXHItPBs9wOG",
        "outputId": "02c71c2a-c73a-4412-aa26-50517b96d9fe"
      },
      "outputs": [
        {
          "data": {
            "text/plain": [
              "rec.array([(1, 'a', 1.1, 1.1), (2, 'dd', 2. , 2. ), (3, 'xyz', 3. , 3. ),\n",
              "           (4, '12', 4. , 4. )],\n",
              "          dtype=[('a', '<i8'), ('b', '<U3'), ('c', '<f8'), ('d', '<f8')])"
            ]
          },
          "execution_count": 118,
          "metadata": {},
          "output_type": "execute_result"
        }
      ],
      "source": [
        "r = np.core.records.fromarrays([x1,x2,x3,x4],names='a,b,c,d')\n",
        "r"
      ]
    },
    {
      "cell_type": "code",
      "execution_count": null,
      "metadata": {
        "id": "W8J6HKmF9wOG",
        "outputId": "59680e13-fc2b-463f-b209-fbef70f742ea"
      },
      "outputs": [
        {
          "name": "stdout",
          "output_type": "stream",
          "text": [
            "2\n"
          ]
        }
      ],
      "source": [
        "print(r[1][\"a\"])"
      ]
    },
    {
      "cell_type": "raw",
      "metadata": {
        "id": "1oiPkUNK9wOH"
      },
      "source": [
        "x1[1]=34"
      ]
    },
    {
      "cell_type": "code",
      "execution_count": null,
      "metadata": {
        "id": "fHLjj0wz9wOH",
        "outputId": "8d2301ea-5fbc-46be-8b33-eafbea7236da"
      },
      "outputs": [
        {
          "data": {
            "text/plain": [
              "2"
            ]
          },
          "execution_count": 130,
          "metadata": {},
          "output_type": "execute_result"
        }
      ],
      "source": [
        "x1[1]"
      ]
    },
    {
      "cell_type": "markdown",
      "metadata": {
        "id": "b3_bGNNF9wOI"
      },
      "source": [
        "# data types"
      ]
    },
    {
      "cell_type": "code",
      "execution_count": null,
      "metadata": {
        "id": "UGPqK4rz9wOI",
        "outputId": "2ae0570e-5e1d-46ca-9d5d-664b0a9aa26c"
      },
      "outputs": [
        {
          "name": "stdout",
          "output_type": "stream",
          "text": [
            "Type/Class of this object: <class 'numpy.ndarray'>\n",
            "Here is the vector\n",
            "--------------------\n",
            " [1 2 3]\n"
          ]
        }
      ],
      "source": [
        "my_list = [1,2,3]\n",
        "import numpy as np\n",
        "arr = np.array(my_list)\n",
        "print(\"Type/Class of this object:\",type(arr))\n",
        "print(\"Here is the vector\\n--------------------\\n\",arr)"
      ]
    },
    {
      "cell_type": "code",
      "execution_count": null,
      "metadata": {
        "id": "7hXQp0Bk9wOJ",
        "outputId": "d14b6943-205f-4add-924f-4e3645e3f38a"
      },
      "outputs": [
        {
          "name": "stdout",
          "output_type": "stream",
          "text": [
            "Type/Class of this object: <class 'numpy.ndarray'>\n",
            "Here is the matrix\n",
            "----------\n",
            " [[1 2 3]\n",
            " [4 5 6]\n",
            " [7 8 9]] \n",
            "----------\n",
            "Dimension of this matrix: 2\n",
            "Size of this matrix: 9\n",
            "Shape of this matrix: (3, 3)\n",
            "Data type of this matrix: int64\n"
          ]
        }
      ],
      "source": [
        "my_mat = [[1,2,3],[4,5,6],[7,8,9]]\n",
        "mat = np.array(my_mat)\n",
        "print(\"Type/Class of this object:\",type(mat))\n",
        "print(\"Here is the matrix\\n----------\\n\",mat,\"\\n----------\")\n",
        "print(\"Dimension of this matrix: \",mat.ndim,sep='') #ndim gives the dimensison, 2 for a matrix, 1 for a vector\n",
        "print(\"Size of this matrix: \", mat.size,sep='') #size gives the total number of elements\n",
        "print(\"Shape of this matrix: \", mat.shape,sep='') #shape gives the number of elements along each axes (dimension)\n",
        "print(\"Data type of this matrix: \", mat.dtype,sep='') #dtype gives the data type contained in the array\n"
      ]
    },
    {
      "cell_type": "code",
      "execution_count": null,
      "metadata": {
        "id": "oEV-Nb-g9wOK",
        "outputId": "e7ec623d-406b-4efe-8006-8cde142eaf6c"
      },
      "outputs": [
        {
          "name": "stdout",
          "output_type": "stream",
          "text": [
            "Data type of the modified matrix: float64\n",
            "\n",
            "\n",
            "Even tuples can be converted to ndarrays...\n"
          ]
        }
      ],
      "source": [
        "my_mat = [[1.1,2,3],[4,5.2,6],[7,8.3,9]]\n",
        "mat = np.array(my_mat)\n",
        "print(\"Data type of the modified matrix: \", mat.dtype,sep='') #dtype gives the data type contained in the array\n",
        "print(\"\\n\\nEven tuples can be converted to ndarrays...\")\n"
      ]
    },
    {
      "cell_type": "code",
      "execution_count": null,
      "metadata": {
        "id": "flRySrVl9wOL",
        "outputId": "55414496-c625-4577-d6df-261652df93ee"
      },
      "outputs": [
        {
          "name": "stdout",
          "output_type": "stream",
          "text": [
            "We write b = np.array([(1.5,2,3), (4,5,6)])\n",
            "Matrix made from tuples, not lists\n",
            "---------------------------------------\n",
            "[[1.5 2.  3. ]\n",
            " [4.  5.  6. ]]\n"
          ]
        }
      ],
      "source": [
        "b = np.array([(1.5,2,3), (4,5,6)])\n",
        "print(\"We write b = np.array([(1.5,2,3), (4,5,6)])\")\n",
        "print(\"Matrix made from tuples, not lists\\n---------------------------------------\")\n",
        "print(b)"
      ]
    },
    {
      "cell_type": "markdown",
      "metadata": {
        "id": "N-AKrmsE9wOL"
      },
      "source": [
        "# arange and linspace\n",
        "\n",
        "\n",
        "Note: the range function not going to argument as floating poit number always throughs error(consider integer data set)\n",
        "\n",
        "But arange can, Inshort range and arange are same instead for the only floating point number\n",
        "\n",
        "arange is not available in Python, only numpy it is present"
      ]
    },
    {
      "cell_type": "code",
      "execution_count": null,
      "metadata": {
        "id": "HQreh35c9wOM",
        "outputId": "0feb0ff0-ecaf-4d5d-fe45-736f688660d5"
      },
      "outputs": [
        {
          "name": "stdout",
          "output_type": "stream",
          "text": [
            "A series of numbers: <class 'numpy.ndarray'>\n"
          ]
        },
        {
          "data": {
            "text/plain": [
              "array([ 5. ,  7.3,  9.6, 11.9, 14.2])"
            ]
          },
          "execution_count": 127,
          "metadata": {},
          "output_type": "execute_result"
        }
      ],
      "source": [
        "print(\"A series of numbers:\",type(np.arange(5,16)))\n",
        "np.arange(5,16,2.3)# A series of numbers from low to high"
      ]
    },
    {
      "cell_type": "code",
      "execution_count": null,
      "metadata": {
        "id": "GW_Jaxj59wOM",
        "outputId": "e5732253-5f71-4fb7-b41b-7dbc0e190ec7"
      },
      "outputs": [
        {
          "data": {
            "text/plain": [
              "[5, 7, 9, 11, 13, 15]"
            ]
          },
          "execution_count": 128,
          "metadata": {},
          "output_type": "execute_result"
        }
      ],
      "source": [
        "list(range(5,16,2))"
      ]
    },
    {
      "cell_type": "code",
      "execution_count": null,
      "metadata": {
        "id": "0EJa-epZ9wON",
        "outputId": "55660ce1-1a28-4b40-e777-75c131fe7813"
      },
      "outputs": [
        {
          "data": {
            "text/plain": [
              "[]"
            ]
          },
          "execution_count": 129,
          "metadata": {},
          "output_type": "execute_result"
        }
      ],
      "source": [
        "list(range(50,-1,5))"
      ]
    },
    {
      "cell_type": "code",
      "execution_count": null,
      "metadata": {
        "id": "73bgqS-M9wOO",
        "outputId": "b2931631-ef6b-46c9-b0ef-09c6d3679cd5"
      },
      "outputs": [
        {
          "name": "stdout",
          "output_type": "stream",
          "text": [
            "Numbers spaced apart by 2: []\n"
          ]
        }
      ],
      "source": [
        "print(\"Numbers spaced apart by 2:\",np.arange(50,-1,5)) # Numbers spaced apart by 2"
      ]
    },
    {
      "cell_type": "code",
      "execution_count": null,
      "metadata": {
        "id": "6yVxkXtU9wOO",
        "outputId": "a5c97a6a-a47f-46cb-906d-da98d52b91d3"
      },
      "outputs": [
        {
          "name": "stdout",
          "output_type": "stream",
          "text": [
            "Numbers spaced apart by float: [ 0.   2.5  5.   7.5 10. ]\n"
          ]
        }
      ],
      "source": [
        "print(\"Numbers spaced apart by float:\",np.arange(0,11,2.5)) # Numbers spaced apart by 2.5"
      ]
    },
    {
      "cell_type": "code",
      "execution_count": null,
      "metadata": {
        "id": "_CvDSY6u9wOP",
        "outputId": "009b0857-bd4c-4cd8-a03b-c4a4a7c23a81"
      },
      "outputs": [
        {
          "name": "stdout",
          "output_type": "stream",
          "text": [
            "Every 5th number from 50 in reverse order\n",
            " [5. 0.]\n"
          ]
        }
      ],
      "source": [
        "print(\"Every 5th number from 50 in reverse order\\n\",np.arange(5.0,-1,-5))"
      ]
    },
    {
      "cell_type": "code",
      "execution_count": null,
      "metadata": {
        "id": "k7ISCTul9wOQ",
        "outputId": "de108764-3086-4733-eedd-201babc21aa2"
      },
      "outputs": [
        {
          "name": "stdout",
          "output_type": "stream",
          "text": [
            "21 linearly spaced numbers between 1 and 5\n",
            "--------------------------------------------\n",
            "[1.         1.08163265 1.16326531 1.24489796 1.32653061 1.40816327\n",
            " 1.48979592 1.57142857 1.65306122 1.73469388 1.81632653 1.89795918\n",
            " 1.97959184 2.06122449 2.14285714 2.2244898  2.30612245 2.3877551\n",
            " 2.46938776 2.55102041 2.63265306 2.71428571 2.79591837 2.87755102\n",
            " 2.95918367 3.04081633 3.12244898 3.20408163 3.28571429 3.36734694\n",
            " 3.44897959 3.53061224 3.6122449  3.69387755 3.7755102  3.85714286\n",
            " 3.93877551 4.02040816 4.10204082 4.18367347 4.26530612 4.34693878\n",
            " 4.42857143 4.51020408 4.59183673 4.67346939 4.75510204 4.83673469\n",
            " 4.91836735 5.        ]\n"
          ]
        }
      ],
      "source": [
        "print(\"21 linearly spaced numbers between 1 and 5\\n--------------------------------------------\")\n",
        "print((np.linspace(1,5,50)))\n",
        "\n",
        "\n",
        "#linespace in this 1st argumnet is starting point, 2nd argumnet is ending point and third is number of the data it will generate in between\n",
        "# Starting and Ending numbers"
      ]
    },
    {
      "cell_type": "markdown",
      "metadata": {
        "id": "4RgFwim99wOQ"
      },
      "source": [
        "# Matrix creation"
      ]
    },
    {
      "cell_type": "code",
      "execution_count": null,
      "metadata": {
        "id": "HuI3TGNJ9wOR",
        "outputId": "500e3a67-7025-4b3a-fda1-0834725a10e5"
      },
      "outputs": [
        {
          "name": "stdout",
          "output_type": "stream",
          "text": [
            "Vector of zeroes\n",
            "---------------------\n",
            "[0. 0. 0. 0. 0.]\n"
          ]
        }
      ],
      "source": [
        "print(\"Vector of zeroes\\n---------------------\")\n",
        "print(np.zeros(5))"
      ]
    },
    {
      "cell_type": "code",
      "execution_count": null,
      "metadata": {
        "id": "_63b0c9s9wOS",
        "outputId": "50d0df10-a996-4eee-9611-3707d8538e8e"
      },
      "outputs": [
        {
          "name": "stdout",
          "output_type": "stream",
          "text": [
            "Matrix of zeroes\n",
            "--------------------\n",
            "[[0. 0. 0. 0.]\n",
            " [0. 0. 0. 0.]\n",
            " [0. 0. 0. 0.]]\n"
          ]
        }
      ],
      "source": [
        "print(\"Matrix of zeroes\\n--------------------\")\n",
        "print(np.zeros((3,4))) # Notice Tuples"
      ]
    },
    {
      "cell_type": "code",
      "execution_count": null,
      "metadata": {
        "id": "x7drB44y9wOS",
        "outputId": "0786fe41-c93b-467e-f64c-dbe7e7375396"
      },
      "outputs": [
        {
          "name": "stdout",
          "output_type": "stream",
          "text": [
            "Vector of ones\n",
            "---------------------\n",
            "[1. 1. 1. 1. 1.]\n"
          ]
        }
      ],
      "source": [
        "print(\"Vector of ones\\n---------------------\")\n",
        "print(np.ones(5))"
      ]
    },
    {
      "cell_type": "code",
      "execution_count": null,
      "metadata": {
        "id": "R7evAUAo9wOT",
        "outputId": "84683fbd-9de0-43ab-f3c7-423cf02cd099"
      },
      "outputs": [
        {
          "name": "stdout",
          "output_type": "stream",
          "text": [
            "Matrix of ones\n",
            "---------------------\n",
            "[[[1. 1. 1. 1. 1. 1. 1. 1.]\n",
            "  [1. 1. 1. 1. 1. 1. 1. 1.]]\n",
            "\n",
            " [[1. 1. 1. 1. 1. 1. 1. 1.]\n",
            "  [1. 1. 1. 1. 1. 1. 1. 1.]]\n",
            "\n",
            " [[1. 1. 1. 1. 1. 1. 1. 1.]\n",
            "  [1. 1. 1. 1. 1. 1. 1. 1.]]\n",
            "\n",
            " [[1. 1. 1. 1. 1. 1. 1. 1.]\n",
            "  [1. 1. 1. 1. 1. 1. 1. 1.]]\n",
            "\n",
            " [[1. 1. 1. 1. 1. 1. 1. 1.]\n",
            "  [1. 1. 1. 1. 1. 1. 1. 1.]]]\n"
          ]
        }
      ],
      "source": [
        "print(\"Matrix of ones\\n---------------------\")\n",
        "print(np.ones((5,2,8))) # Note matrix dimension specified by Tuples\n"
      ]
    },
    {
      "cell_type": "code",
      "execution_count": null,
      "metadata": {
        "id": "Hf0SJCFl9wOX",
        "outputId": "691d65ae-2f04-4564-cb1a-3a10f209ebe1"
      },
      "outputs": [
        {
          "name": "stdout",
          "output_type": "stream",
          "text": [
            "Matrix of 5's\n",
            "---------------------\n",
            "[[6. 6. 6. 6. 6.]\n",
            " [6. 6. 6. 6. 6.]\n",
            " [6. 6. 6. 6. 6.]]\n"
          ]
        }
      ],
      "source": [
        "print(\"Matrix of 5's\\n---------------------\")\n",
        "print(5+np.ones((3,5)))"
      ]
    },
    {
      "cell_type": "code",
      "execution_count": null,
      "metadata": {
        "id": "M3IsqDIz9wOX",
        "outputId": "6e607e0a-57d8-47d0-b94f-682ff4c01103"
      },
      "outputs": [
        {
          "name": "stdout",
          "output_type": "stream",
          "text": [
            "Empty matrix\n",
            "-------------\n",
            " [[6. 6. 6. 6. 6.]\n",
            " [6. 6. 6. 6. 6.]\n",
            " [6. 6. 6. 6. 6.]]\n"
          ]
        }
      ],
      "source": [
        "print(\"Empty matrix\\n-------------\\n\", np.empty((3,5)))"
      ]
    },
    {
      "cell_type": "code",
      "execution_count": null,
      "metadata": {
        "scrolled": true,
        "id": "FFnLZbds9wOY",
        "outputId": "9b1b3b50-fccb-4dec-d05c-93304acf821e"
      },
      "outputs": [
        {
          "name": "stdout",
          "output_type": "stream",
          "text": [
            "Identity matrix of dimension (4, 4)\n",
            "[[1. 0. 0. 0.]\n",
            " [0. 1. 0. 0.]\n",
            " [0. 0. 1. 0.]\n",
            " [0. 0. 0. 1.]]\n"
          ]
        }
      ],
      "source": [
        "mat1 = np.eye(4) \n",
        "print(\"Identity matrix of dimension\", mat1.shape)\n",
        "print(mat1)"
      ]
    },
    {
      "cell_type": "code",
      "execution_count": null,
      "metadata": {
        "id": "GmJi02Sj9wOZ",
        "outputId": "b7ec5d78-e450-4257-c502-ec5c0a128ee9"
      },
      "outputs": [
        {
          "data": {
            "text/plain": [
              "array([0, 1, 2])"
            ]
          },
          "execution_count": 132,
          "metadata": {},
          "output_type": "execute_result"
        }
      ],
      "source": [
        "np.arange(3)"
      ]
    },
    {
      "cell_type": "code",
      "execution_count": null,
      "metadata": {
        "id": "F_VohVKe9wOZ",
        "outputId": "784d19a6-f1c9-4fb5-cf6f-df98eaa63b7d"
      },
      "outputs": [
        {
          "data": {
            "text/plain": [
              "array([0., 1., 2.])"
            ]
          },
          "execution_count": 80,
          "metadata": {},
          "output_type": "execute_result"
        }
      ],
      "source": [
        "np.arange(3.0)"
      ]
    },
    {
      "cell_type": "code",
      "execution_count": null,
      "metadata": {
        "id": "yPQ0YN8O9wOa",
        "outputId": "eb903f74-e104-4cb6-ffad-d262fe7bf1d2"
      },
      "outputs": [
        {
          "data": {
            "text/plain": [
              "array([3, 4, 5, 6])"
            ]
          },
          "execution_count": 81,
          "metadata": {},
          "output_type": "execute_result"
        }
      ],
      "source": [
        " np.arange(3,7)"
      ]
    },
    {
      "cell_type": "code",
      "execution_count": null,
      "metadata": {
        "id": "MVIgRJJq9wOa",
        "outputId": "c565ebe2-684f-4f00-bdf5-faf316934d04"
      },
      "outputs": [
        {
          "data": {
            "text/plain": [
              "array([3, 5])"
            ]
          },
          "execution_count": 82,
          "metadata": {},
          "output_type": "execute_result"
        }
      ],
      "source": [
        "np.arange(3,7,2)"
      ]
    },
    {
      "cell_type": "code",
      "execution_count": null,
      "metadata": {
        "id": "8YsXpIKh9wOb",
        "outputId": "2354572e-a3f7-40c5-9a6c-a0597ab3bc43"
      },
      "outputs": [
        {
          "data": {
            "text/plain": [
              "array([2.  , 2.25, 2.5 , 2.75, 3.  ])"
            ]
          },
          "execution_count": 150,
          "metadata": {},
          "output_type": "execute_result"
        }
      ],
      "source": [
        "np.linspace(2.0, 3.0, num=5)"
      ]
    },
    {
      "cell_type": "code",
      "execution_count": null,
      "metadata": {
        "id": "R02dKtc09wOb",
        "outputId": "dd16b959-0280-418e-ac90-54b6231e1cd9"
      },
      "outputs": [
        {
          "data": {
            "text/plain": [
              "array([2. , 2.2, 2.4, 2.6, 2.8])"
            ]
          },
          "execution_count": 151,
          "metadata": {},
          "output_type": "execute_result"
        }
      ],
      "source": [
        "np.linspace(2.0, 3.0, num=5, endpoint=False)"
      ]
    },
    {
      "cell_type": "code",
      "execution_count": null,
      "metadata": {
        "id": "TSf9lZST9wOc",
        "outputId": "c9f26a55-713f-4ec6-a684-611fa69d28d7"
      },
      "outputs": [
        {
          "data": {
            "text/plain": [
              "(array([2.   , 2.125, 2.25 , 2.375, 2.5  , 2.625, 2.75 , 2.875, 3.   ]), 0.125)"
            ]
          },
          "execution_count": 153,
          "metadata": {},
          "output_type": "execute_result"
        }
      ],
      "source": [
        "np.linspace(2.0, 3.0, num=9, retstep=True)"
      ]
    },
    {
      "cell_type": "code",
      "execution_count": null,
      "metadata": {
        "id": "MQ1PIXyd9wOc",
        "outputId": "9399a803-d972-4b3d-dfc1-aab850b321e5"
      },
      "outputs": [
        {
          "data": {
            "text/plain": [
              "array([2.        , 2.33333333, 2.66666667, 3.        ])"
            ]
          },
          "execution_count": 147,
          "metadata": {},
          "output_type": "execute_result"
        }
      ],
      "source": [
        "#Return numbers spaced evenly on a log scale.\n",
        "np.linspace(2.0, 3.0, num=4)"
      ]
    },
    {
      "cell_type": "code",
      "execution_count": null,
      "metadata": {
        "id": "K9DsRbMk9wOd",
        "outputId": "50fd2edb-ff6f-4f80-ee53-7908f4daa688"
      },
      "outputs": [
        {
          "data": {
            "text/plain": [
              "array([ 100.        ,  215.443469  ,  464.15888336, 1000.        ])"
            ]
          },
          "execution_count": 154,
          "metadata": {},
          "output_type": "execute_result"
        }
      ],
      "source": [
        "np.logspace(2.0, 3.0, num=4,base = 10)"
      ]
    },
    {
      "cell_type": "code",
      "execution_count": null,
      "metadata": {
        "id": "CX2TyTFZ9wOd",
        "outputId": "f61e61fd-d777-4a07-b6eb-9a17098791ab"
      },
      "outputs": [
        {
          "data": {
            "text/plain": [
              "array([ 100.        ,  177.827941  ,  316.22776602,  562.34132519])"
            ]
          },
          "execution_count": 113,
          "metadata": {},
          "output_type": "execute_result"
        }
      ],
      "source": [
        "np.logspace(2.0, 3.0, num=4, endpoint=False)"
      ]
    },
    {
      "cell_type": "code",
      "execution_count": null,
      "metadata": {
        "id": "9wBbYzOR9wOe",
        "outputId": "cb9740bd-e195-4317-ea1c-3ef3e988d19e"
      },
      "outputs": [
        {
          "data": {
            "text/plain": [
              "array([4.        , 5.0396842 , 6.34960421, 8.        ])"
            ]
          },
          "execution_count": 155,
          "metadata": {},
          "output_type": "execute_result"
        }
      ],
      "source": [
        "np.logspace(2.0, 3.0, num=4, base=2.0)"
      ]
    },
    {
      "cell_type": "code",
      "execution_count": null,
      "metadata": {
        "collapsed": true,
        "id": "-GyMgjI59wOf"
      },
      "outputs": [],
      "source": [
        "#Extract a diagonal or construct a diagonal array."
      ]
    },
    {
      "cell_type": "code",
      "execution_count": null,
      "metadata": {
        "id": "EIGeREeW9wOf"
      },
      "outputs": [],
      "source": [
        "x = np.arange(16).reshape((-1,4))"
      ]
    },
    {
      "cell_type": "code",
      "execution_count": null,
      "metadata": {
        "id": "oPVSbGuP9wOg",
        "outputId": "244f3115-1595-4053-c3ab-fc06e34d006c"
      },
      "outputs": [
        {
          "data": {
            "text/plain": [
              "array([[ 0,  1,  2,  3],\n",
              "       [ 4,  5,  6,  7],\n",
              "       [ 8,  9, 10, 11],\n",
              "       [12, 13, 14, 15]])"
            ]
          },
          "execution_count": 180,
          "metadata": {},
          "output_type": "execute_result"
        }
      ],
      "source": [
        "x"
      ]
    },
    {
      "cell_type": "code",
      "execution_count": null,
      "metadata": {
        "id": "VTD_sltX9wOg",
        "outputId": "86e43aca-0ba9-456f-bf45-29d627b487e8"
      },
      "outputs": [
        {
          "data": {
            "text/plain": [
              "array([ 0,  5, 10, 15])"
            ]
          },
          "execution_count": 172,
          "metadata": {},
          "output_type": "execute_result"
        }
      ],
      "source": [
        "np.diag(x)"
      ]
    },
    {
      "cell_type": "code",
      "execution_count": null,
      "metadata": {
        "id": "x-ZjfiJy9wOh",
        "outputId": "6ccccc8a-85b8-45bc-a19f-941280ccef84"
      },
      "outputs": [
        {
          "data": {
            "text/plain": [
              "array([2, 7])"
            ]
          },
          "execution_count": 182,
          "metadata": {},
          "output_type": "execute_result"
        }
      ],
      "source": [
        "np.diag(x, k=2\n",
        "       )"
      ]
    },
    {
      "cell_type": "code",
      "execution_count": null,
      "metadata": {
        "id": "MS6DMOaj9wOi",
        "outputId": "5c176ca9-10d4-49cc-cfa6-01a16c3e0e69"
      },
      "outputs": [
        {
          "data": {
            "text/plain": [
              "array([ 4,  9, 14])"
            ]
          },
          "execution_count": 183,
          "metadata": {},
          "output_type": "execute_result"
        }
      ],
      "source": [
        "np.diag(x, k=-1)"
      ]
    },
    {
      "cell_type": "code",
      "execution_count": null,
      "metadata": {
        "id": "CiB70ezU9wOj",
        "outputId": "a7e1b8fb-39ca-4d62-83b8-4a47760b29a2"
      },
      "outputs": [
        {
          "data": {
            "text/plain": [
              "array([[ 0,  0,  0,  0],\n",
              "       [ 0,  5,  0,  0],\n",
              "       [ 0,  0, 10,  0],\n",
              "       [ 0,  0,  0, 15]])"
            ]
          },
          "execution_count": 184,
          "metadata": {},
          "output_type": "execute_result"
        }
      ],
      "source": [
        "np.diag(np.diag(x))"
      ]
    },
    {
      "cell_type": "code",
      "execution_count": null,
      "metadata": {
        "collapsed": true,
        "id": "8Cw-ufje9wOj"
      },
      "outputs": [],
      "source": [
        "#Create a two-dimensional array with the flattened input as a diagonal."
      ]
    },
    {
      "cell_type": "code",
      "execution_count": null,
      "metadata": {
        "id": "j31JHuRs9wOk",
        "outputId": "caef6dc9-f382-439a-f7dd-32ffb0bbd699"
      },
      "outputs": [
        {
          "data": {
            "text/plain": [
              "array([[1, 0, 0, 0],\n",
              "       [0, 2, 0, 0],\n",
              "       [0, 0, 3, 0],\n",
              "       [0, 0, 0, 4]])"
            ]
          },
          "execution_count": 180,
          "metadata": {},
          "output_type": "execute_result"
        }
      ],
      "source": [
        "np.diagflat([[1,2], [3,4]])"
      ]
    },
    {
      "cell_type": "code",
      "execution_count": null,
      "metadata": {
        "id": "jd72CtJG9wOk",
        "outputId": "16126129-cbbb-4cef-913b-4a92985af518"
      },
      "outputs": [
        {
          "data": {
            "text/plain": [
              "array([[0, 1, 0],\n",
              "       [0, 0, 2],\n",
              "       [0, 0, 0]])"
            ]
          },
          "execution_count": 124,
          "metadata": {},
          "output_type": "execute_result"
        }
      ],
      "source": [
        "np.diagflat([1,2], 1)"
      ]
    },
    {
      "cell_type": "code",
      "execution_count": null,
      "metadata": {
        "collapsed": true,
        "id": "PO9ZAwxU9wOl"
      },
      "outputs": [],
      "source": [
        "#An array with ones at and below the given diagonal and zeros elsewhere."
      ]
    },
    {
      "cell_type": "code",
      "execution_count": null,
      "metadata": {
        "id": "cHs8Xny69wOl",
        "outputId": "946fff0c-7097-4b21-d474-6ea3ecb5798d"
      },
      "outputs": [
        {
          "data": {
            "text/plain": [
              "array([[1, 1, 0, 0, 0],\n",
              "       [1, 1, 1, 0, 0],\n",
              "       [1, 1, 1, 1, 0]])"
            ]
          },
          "execution_count": 187,
          "metadata": {},
          "output_type": "execute_result"
        }
      ],
      "source": [
        "np.tri(3, 5, 1, dtype=int)"
      ]
    },
    {
      "cell_type": "code",
      "execution_count": null,
      "metadata": {
        "id": "ccomxLd-9wOm",
        "outputId": "0150e140-b660-4f77-d0f9-eca8d1e2f974"
      },
      "outputs": [
        {
          "data": {
            "text/plain": [
              "array([[0., 0., 0., 0., 0.],\n",
              "       [1., 0., 0., 0., 0.],\n",
              "       [1., 1., 0., 0., 0.]])"
            ]
          },
          "execution_count": 191,
          "metadata": {},
          "output_type": "execute_result"
        }
      ],
      "source": [
        "np.tri(3, 5,k=-1)"
      ]
    },
    {
      "cell_type": "code",
      "execution_count": null,
      "metadata": {
        "collapsed": true,
        "id": "IASmAUJm9wOn"
      },
      "outputs": [],
      "source": [
        "#return a Lower triangle of an array."
      ]
    },
    {
      "cell_type": "code",
      "execution_count": null,
      "metadata": {
        "id": "2-vvXbjF9wOn",
        "outputId": "1808c39a-189e-4c77-b35b-df03240e9179"
      },
      "outputs": [
        {
          "data": {
            "text/plain": [
              "array([[1, 0, 0],\n",
              "       [4, 5, 0],\n",
              "       [7, 8, 9]])"
            ]
          },
          "execution_count": 205,
          "metadata": {},
          "output_type": "execute_result"
        }
      ],
      "source": [
        "np.tril([[1,2,3],[4,5,6],[7,8,9]], 0)"
      ]
    },
    {
      "cell_type": "code",
      "execution_count": null,
      "metadata": {
        "collapsed": true,
        "id": "buyZaTb_9wOo"
      },
      "outputs": [],
      "source": [
        "#return Upper triangle of an array."
      ]
    },
    {
      "cell_type": "code",
      "execution_count": null,
      "metadata": {
        "id": "GyqQJtVP9wOo",
        "outputId": "11a0c517-f75f-46df-c768-660facd8d9cb"
      },
      "outputs": [
        {
          "data": {
            "text/plain": [
              "array([[0, 2, 3],\n",
              "       [0, 0, 6],\n",
              "       [0, 0, 0],\n",
              "       [0, 0, 0]])"
            ]
          },
          "execution_count": 206,
          "metadata": {},
          "output_type": "execute_result"
        }
      ],
      "source": [
        "np.triu([[1,2,3],[4,5,6],[7,8,9],[10,11,12]], 1)"
      ]
    },
    {
      "cell_type": "markdown",
      "metadata": {
        "id": "LDKWf2259wOp"
      },
      "source": [
        "# Random number generation"
      ]
    },
    {
      "cell_type": "code",
      "execution_count": null,
      "metadata": {
        "id": "3HQcMLbV9wOp",
        "outputId": "956feef2-7f80-4436-b9c1-48b38978e045"
      },
      "outputs": [
        {
          "name": "stdout",
          "output_type": "stream",
          "text": [
            "Random number generation (from Uniform distribution)\n",
            "[[0.79234365 0.26636652 0.84876143]\n",
            " [0.78766627 0.06627396 0.8829639 ]]\n"
          ]
        }
      ],
      "source": [
        "print(\"Random number generation (from Uniform distribution)\")\n",
        "print(np.random.rand(2,3)) # 2 by 3 matrix with random numbers ranging from 0 to 1, Note no Tuple is necessary "
      ]
    },
    {
      "cell_type": "code",
      "execution_count": null,
      "metadata": {
        "id": "xsoR7BY-9wOq",
        "outputId": "65f62b31-922a-489b-f6db-80ba7bba329b"
      },
      "outputs": [
        {
          "name": "stdout",
          "output_type": "stream",
          "text": [
            "Numbers from Normal distribution with zero mean and standard deviation 1 i.e. standard normal\n",
            "[[ 0.08550888  0.73651756  0.08329424]\n",
            " [ 0.75179279  0.42441618  0.47752353]\n",
            " [ 0.23835886  1.06582108 -0.01790105]\n",
            " [ 0.48190152 -0.24940656 -0.44992115]]\n"
          ]
        }
      ],
      "source": [
        "print(\"Numbers from Normal distribution with zero mean and standard deviation 1 i.e. standard normal\")\n",
        "print(np.random.randn(4,3))"
      ]
    },
    {
      "cell_type": "code",
      "execution_count": null,
      "metadata": {
        "id": "TJOLwf5M9wOq",
        "outputId": "0504023a-d3dd-4e79-fba5-73267f5cedc8"
      },
      "outputs": [
        {
          "name": "stdout",
          "output_type": "stream",
          "text": [
            "Random integer vector: 4\n",
            "\n",
            "Random integer matrix\n"
          ]
        }
      ],
      "source": [
        "print(\"Random integer vector:\",np.random.randint(1,10)) #randint (low, high, # of samples to be drawn)\n",
        "print (\"\\nRandom integer matrix\")\n"
      ]
    },
    {
      "cell_type": "code",
      "execution_count": null,
      "metadata": {
        "id": "DM4iRhd49wOr",
        "outputId": "93cc86d3-2653-4b41-8d54-2947b2578939"
      },
      "outputs": [
        {
          "name": "stdout",
          "output_type": "stream",
          "text": [
            "[[28 90 28 25]\n",
            " [14 51 32 98]\n",
            " [10 98 11 71]\n",
            " [12 42 54 77]]\n",
            "\n",
            "20 samples drawn from a dice throw: [1 6 2 1 1 1 5 2 5 1 1 5 5 1 6 6 5 4 1 1]\n"
          ]
        }
      ],
      "source": [
        "print(np.random.randint(1,100,(4,4))) #randint (low, high, # of samples to be drawn in a tuple to form a matrix)\n",
        "print(\"\\n20 samples drawn from a dice throw:\",np.random.randint(1,7,20)) # 20 samples drawn from a dice throw"
      ]
    },
    {
      "cell_type": "markdown",
      "metadata": {
        "id": "P1P92qq69wOs"
      },
      "source": [
        "# Reshaping"
      ]
    },
    {
      "cell_type": "code",
      "execution_count": null,
      "metadata": {
        "id": "JtJnCCf59wOt",
        "outputId": "4392d223-000f-40cf-c177-6d28a7bea525"
      },
      "outputs": [
        {
          "data": {
            "text/plain": [
              "array([[51, 63, 51, 54, 96],\n",
              "       [11, 93,  2, 51, 34],\n",
              "       [62, 35, 42, 95, 58],\n",
              "       [88, 44, 36, 93, 83],\n",
              "       [86, 56, 30,  2, 15],\n",
              "       [68, 40, 77, 48, 57]])"
            ]
          },
          "execution_count": 211,
          "metadata": {},
          "output_type": "execute_result"
        }
      ],
      "source": [
        "from numpy.random import randint as ri\n",
        "a = ri(1,100,30)\n",
        "b = a.reshape(2,3,5)\n",
        "c = a.reshape(6,-19878)\n",
        "c"
      ]
    },
    {
      "cell_type": "code",
      "execution_count": null,
      "metadata": {
        "id": "ffZR8aFO9wOt",
        "outputId": "9dcfbff2-9610-49fa-e93c-6250e5a24442"
      },
      "outputs": [
        {
          "name": "stdout",
          "output_type": "stream",
          "text": [
            "Shape of a: (30,)\n",
            "Shape of b: (2, 3, 5)\n",
            "Shape of c: (6, 5)\n"
          ]
        }
      ],
      "source": [
        "print (\"Shape of a:\", a.shape)\n",
        "print (\"Shape of b:\", b.shape)\n",
        "print (\"Shape of c:\", c.shape)\n"
      ]
    },
    {
      "cell_type": "code",
      "execution_count": null,
      "metadata": {
        "id": "nPGyrSZn9wOu",
        "outputId": "39b76d56-cd73-49b7-dedd-04f4dafbc265"
      },
      "outputs": [
        {
          "name": "stdout",
          "output_type": "stream",
          "text": [
            "\n",
            "a looks like\n",
            " -------------------- \n",
            " [72 69 61 67 42  2 92 42 38 56 22 71 21 81 81 47  2  1  6 94 52 14 87 71\n",
            " 38 57 99 87 62 88] \n",
            " --------------------\n",
            "\n",
            "b looks like\n",
            " -------------------- \n",
            " [[[72 69 61 67 42]\n",
            "  [ 2 92 42 38 56]\n",
            "  [22 71 21 81 81]]\n",
            "\n",
            " [[47  2  1  6 94]\n",
            "  [52 14 87 71 38]\n",
            "  [57 99 87 62 88]]] \n",
            " --------------------\n",
            "\n",
            "c looks like\n",
            " -------------------- \n",
            " [[72 69 61 67 42]\n",
            " [ 2 92 42 38 56]\n",
            " [22 71 21 81 81]\n",
            " [47  2  1  6 94]\n",
            " [52 14 87 71 38]\n",
            " [57 99 87 62 88]] \n",
            " --------------------\n"
          ]
        }
      ],
      "source": [
        "print(\"\\na looks like\\n\",'-'*20,\"\\n\",a,\"\\n\",'-'*20)\n",
        "print(\"\\nb looks like\\n\",'-'*20,\"\\n\",b,\"\\n\",'-'*20)\n",
        "print(\"\\nc looks like\\n\",'-'*20,\"\\n\",c,\"\\n\",'-'*20)\n"
      ]
    },
    {
      "cell_type": "code",
      "execution_count": null,
      "metadata": {
        "id": "q6qZCzyT9wOv",
        "outputId": "27dbac15-4745-4747-8126-df3934f66a2b"
      },
      "outputs": [
        {
          "name": "stdout",
          "output_type": "stream",
          "text": [
            "\n",
            "Vector of random integers\n",
            " -------------------------------------------------- \n",
            " [69 99 45 72 41 16 50 80 80 22]\n",
            "\n",
            "Here is the sorted vector\n",
            " -------------------------------------------------- \n",
            " [16 22 41 45 50 69 72 80 80 99]\n"
          ]
        }
      ],
      "source": [
        "A = ri(1,100,10) # Vector of random interegrs\n",
        "print(\"\\nVector of random integers\\n\",'-'*50,\"\\n\",A)\n",
        "print(\"\\nHere is the sorted vector\\n\",'-'*50,\"\\n\",np.sort(A))\n"
      ]
    },
    {
      "cell_type": "code",
      "execution_count": null,
      "metadata": {
        "id": "QjfTP_Yu9wOv",
        "outputId": "16a2d052-98d0-4178-89b2-1d782623e940"
      },
      "outputs": [
        {
          "name": "stdout",
          "output_type": "stream",
          "text": [
            "\n",
            "Here is the sorted matrix along each column\n",
            " -------------------------------------------------- \n",
            " [[18 25 38 73 94]\n",
            " [18 42 75 79 91]\n",
            " [21 44 62 78 85]\n",
            " [15 17 44 89 91]\n",
            " [ 3 24 38 62 86]]\n"
          ]
        },
        {
          "data": {
            "text/plain": [
              "array([[18, 94, 25, 38, 73],\n",
              "       [75, 42, 79, 18, 91],\n",
              "       [21, 44, 85, 78, 62],\n",
              "       [91, 15, 17, 44, 89],\n",
              "       [62, 38,  3, 24, 86]])"
            ]
          },
          "execution_count": 221,
          "metadata": {},
          "output_type": "execute_result"
        }
      ],
      "source": [
        "M = ri(1,100,25).reshape(5,5) # Matrix of random interegrs\n",
        "#print(\"\\nHere is the sorted matrix along each row\\n\",'-'*50,\"\\n\",np.sort(M, kind='mergesort')) # Default axis =1\n",
        "print(\"\\nHere is the sorted matrix along each column\\n\",'-'*50,\"\\n\",np.sort(M, axis=1, kind='mergesort'))\n",
        "M"
      ]
    },
    {
      "cell_type": "code",
      "execution_count": null,
      "metadata": {
        "id": "N540_py_9wOw",
        "outputId": "7c220ae1-ee17-41dd-ac94-d764b9ac26c6"
      },
      "outputs": [
        {
          "name": "stdout",
          "output_type": "stream",
          "text": [
            "Max of a: 99\n",
            "Max of b: 96\n"
          ]
        },
        {
          "data": {
            "text/plain": [
              "array([[[51, 63, 51, 54, 96],\n",
              "        [11, 93,  2, 51, 34],\n",
              "        [62, 35, 42, 95, 58]],\n",
              "\n",
              "       [[88, 44, 36, 93, 83],\n",
              "        [86, 56, 30,  2, 15],\n",
              "        [68, 40, 77, 48, 57]]])"
            ]
          },
          "execution_count": 214,
          "metadata": {},
          "output_type": "execute_result"
        }
      ],
      "source": [
        "print(\"Max of a:\", M.max())\n",
        "print(\"Max of b:\", b.max())\n",
        "b"
      ]
    },
    {
      "cell_type": "code",
      "execution_count": null,
      "metadata": {
        "id": "R1GAurRU9wOx",
        "outputId": "de7995ff-cbec-440e-fd60-10cc5de47b71"
      },
      "outputs": [
        {
          "data": {
            "text/plain": [
              "array([[46, 88, 23, 66, 57],\n",
              "       [50, 90, 30, 46, 36],\n",
              "       [31, 19, 42, 23, 31],\n",
              "       [ 4, 44, 86, 10, 81],\n",
              "       [73, 35, 30, 99, 43]])"
            ]
          },
          "execution_count": 217,
          "metadata": {},
          "output_type": "execute_result"
        }
      ],
      "source": [
        "M"
      ]
    },
    {
      "cell_type": "code",
      "execution_count": null,
      "metadata": {
        "id": "oFNm1Ldb9wOy",
        "outputId": "656c4857-6fdd-4eb8-8dd5-ce87eaf52670"
      },
      "outputs": [
        {
          "name": "stdout",
          "output_type": "stream",
          "text": [
            "Max of a location: [1 1 2 2 3]\n",
            "Max of b location: 4\n",
            "Max of c location: 4\n"
          ]
        }
      ],
      "source": [
        "print(\"Max of a location:\", M.argmax(axis= 1 ))\n",
        "print(\"Max of b location:\", b.argmax())\n",
        "print(\"Max of c location:\", b.argmax())"
      ]
    },
    {
      "cell_type": "markdown",
      "metadata": {
        "id": "wuyyEmpl9wOz"
      },
      "source": [
        "# Indexing and slicing"
      ]
    },
    {
      "cell_type": "code",
      "execution_count": null,
      "metadata": {
        "id": "7SYP4BS59wOz",
        "outputId": "1e105507-3792-487f-e2bb-ac965643ada0"
      },
      "outputs": [
        {
          "name": "stdout",
          "output_type": "stream",
          "text": [
            "Array: [ 0  1  2  3  4  5  6  7  8  9 10]\n"
          ]
        }
      ],
      "source": [
        "arr = np.arange(0,11)\n",
        "print(\"Array:\",arr)\n"
      ]
    },
    {
      "cell_type": "code",
      "execution_count": null,
      "metadata": {
        "id": "A2HdSQ759wO0",
        "outputId": "8d935b52-5fce-43a4-e772-b979caf35d8c"
      },
      "outputs": [
        {
          "name": "stdout",
          "output_type": "stream",
          "text": [
            "Element at 7th index is: 7\n"
          ]
        }
      ],
      "source": [
        "print(\"Element at 7th index is:\", arr[7])\n"
      ]
    },
    {
      "cell_type": "code",
      "execution_count": null,
      "metadata": {
        "id": "mG7JJAY69wO1",
        "outputId": "04d295ae-501e-4618-d5ad-260c37fc39a5"
      },
      "outputs": [
        {
          "name": "stdout",
          "output_type": "stream",
          "text": [
            "Elements from 3rd to 5th index are: [3 5]\n"
          ]
        }
      ],
      "source": [
        "print(\"Elements from 3rd to 5th index are:\", arr[3:6:2])\n"
      ]
    },
    {
      "cell_type": "code",
      "execution_count": null,
      "metadata": {
        "id": "hqG8sNeZ9wO2",
        "outputId": "241fa642-1ff4-4aea-e119-4643be9cb2d8"
      },
      "outputs": [
        {
          "name": "stdout",
          "output_type": "stream",
          "text": [
            "Elements up to 4th index are: [0 1 2 3]\n"
          ]
        },
        {
          "data": {
            "text/plain": [
              "array([ 0,  1,  2,  3,  4,  5,  6,  7,  8,  9, 10])"
            ]
          },
          "execution_count": 231,
          "metadata": {},
          "output_type": "execute_result"
        }
      ],
      "source": [
        "print(\"Elements up to 4th index are:\", arr[:4])\n",
        "arr"
      ]
    },
    {
      "cell_type": "code",
      "execution_count": null,
      "metadata": {
        "id": "wq7bndAk9wO2",
        "outputId": "4d355e3b-5d10-432f-9b0d-30314a7d6b21"
      },
      "outputs": [
        {
          "name": "stdout",
          "output_type": "stream",
          "text": [
            "Elements from last backwards are: [10  9  8]\n"
          ]
        }
      ],
      "source": [
        "print(\"Elements from last backwards are:\", arr[-1:7:-1])\n"
      ]
    },
    {
      "cell_type": "code",
      "execution_count": null,
      "metadata": {
        "id": "Z3GPJ82V9wO3",
        "outputId": "d394b7dd-cfd4-4281-fe97-82a6828543f7"
      },
      "outputs": [
        {
          "name": "stdout",
          "output_type": "stream",
          "text": [
            "3 Elements from last backwards are: []\n"
          ]
        }
      ],
      "source": [
        "print(\"3 Elements from last backwards are:\", arr[-1:-6:2])\n"
      ]
    },
    {
      "cell_type": "code",
      "execution_count": null,
      "metadata": {
        "id": "nxfBp6NE9wO4",
        "outputId": "3b1932cb-5461-4ffc-e8fe-5f606089af80"
      },
      "outputs": [
        {
          "name": "stdout",
          "output_type": "stream",
          "text": [
            "New array: [ 0  2  4  6  8 10 12 14 16 18 20]\n"
          ]
        }
      ],
      "source": [
        "arr = np.arange(0,21,2)\n",
        "print(\"New array:\",arr)\n"
      ]
    },
    {
      "cell_type": "code",
      "execution_count": null,
      "metadata": {
        "id": "mZE3_faM9wO5",
        "outputId": "50c1729d-9295-404b-fd80-3c73cc1626ea"
      },
      "outputs": [
        {
          "name": "stdout",
          "output_type": "stream",
          "text": [
            "Elements at 2nd, 4th, and 9th index are: [ 4  8 18]\n"
          ]
        }
      ],
      "source": [
        "print(\"Elements at 2nd, 4th, and 9th index are:\", arr[[2,4,9]]) # Pass a list as a index to subset"
      ]
    },
    {
      "cell_type": "code",
      "execution_count": null,
      "metadata": {
        "id": "llEIQ6wj9wO5",
        "outputId": "d97eb104-206c-4088-9405-3d2588d75424"
      },
      "outputs": [
        {
          "name": "stdout",
          "output_type": "stream",
          "text": [
            "Matrix of random 2-digit numbers\n",
            "--------------------------------\n",
            " [[35 75 44 59 85]\n",
            " [71 58 75 72 69]\n",
            " [76 97 49 63 53]]\n"
          ]
        },
        {
          "data": {
            "text/plain": [
              "array([[75, 59],\n",
              "       [58, 72],\n",
              "       [97, 63]])"
            ]
          },
          "execution_count": 237,
          "metadata": {},
          "output_type": "execute_result"
        }
      ],
      "source": [
        "import numpy as np \n",
        "mat = np.array(ri(10,100,15)).reshape(3,5)\n",
        "print(\"Matrix of random 2-digit numbers\\n--------------------------------\\n\",mat)\n",
        "mat[1:4,3:5]\n",
        "mat[0:3,[1,3]]"
      ]
    },
    {
      "cell_type": "code",
      "execution_count": null,
      "metadata": {
        "id": "WCjwKn3y9wO6",
        "outputId": "9397dae1-284f-49f8-db43-800ee848cbbc"
      },
      "outputs": [
        {
          "data": {
            "text/plain": [
              "array([[35, 75, 44, 59, 85],\n",
              "       [71, 58, 75, 72, 69],\n",
              "       [76, 97, 49, 63, 53]])"
            ]
          },
          "execution_count": 238,
          "metadata": {},
          "output_type": "execute_result"
        }
      ],
      "source": [
        "mat[0:3,[1,3]]\n",
        "mat"
      ]
    },
    {
      "cell_type": "code",
      "execution_count": null,
      "metadata": {
        "id": "lGPp6lZi9wO6",
        "outputId": "9775a538-3f47-4bba-b59b-e93610a0d7e8"
      },
      "outputs": [
        {
          "name": "stdout",
          "output_type": "stream",
          "text": [
            "\n",
            "Double bracket indexing\n",
            "------------------------\n",
            "Element in row index 1 and column index 2: 58\n"
          ]
        },
        {
          "data": {
            "text/plain": [
              "array([[35, 75, 44, 59, 85],\n",
              "       [71, 58, 75, 72, 69],\n",
              "       [76, 97, 49, 63, 53]])"
            ]
          },
          "execution_count": 241,
          "metadata": {},
          "output_type": "execute_result"
        }
      ],
      "source": [
        "print(\"\\nDouble bracket indexing\\n------------------------\")\n",
        "print(\"Element in row index 1 and column index 2:\", mat[1][1])\n",
        "mat"
      ]
    },
    {
      "cell_type": "code",
      "execution_count": null,
      "metadata": {
        "id": "O1Llm5UP9wO7",
        "outputId": "3f6b6563-9226-46b1-85ad-e5bce79518a8"
      },
      "outputs": [
        {
          "name": "stdout",
          "output_type": "stream",
          "text": [
            "\n",
            "Single bracket with comma indexing\n",
            "----------------------------------\n",
            "Element in row index 1 and column index 2: 75\n",
            "\n",
            "Row or column extract\n",
            "----------------------\n"
          ]
        }
      ],
      "source": [
        "print(\"\\nSingle bracket with comma indexing\\n----------------------------------\")\n",
        "print(\"Element in row index 1 and column index 2:\", mat[1,2])\n",
        "print(\"\\nRow or column extract\\n----------------------\")\n"
      ]
    },
    {
      "cell_type": "code",
      "execution_count": null,
      "metadata": {
        "id": "ybJ0SeYE9wO7",
        "outputId": "1dd925f3-adc9-40d9-fd41-a2ef416d17b8"
      },
      "outputs": [
        {
          "name": "stdout",
          "output_type": "stream",
          "text": [
            "Entire row at index 2: [22 10 57 59 61]\n",
            "Entire column at index 3: [92 88 59]\n"
          ]
        }
      ],
      "source": [
        "print(\"Entire row at index 2:\", mat[2])\n",
        "print(\"Entire column at index 3:\", mat[:,3])\n"
      ]
    },
    {
      "cell_type": "code",
      "execution_count": null,
      "metadata": {
        "id": "hd-7icE49wO8",
        "outputId": "3f7db677-b9d7-4adb-93f9-d181278a30dd"
      },
      "outputs": [
        {
          "name": "stdout",
          "output_type": "stream",
          "text": [
            "\n",
            "Subsetting sub-matrices\n",
            "--------------------------\n",
            "Matrix with row indices 1 and 2 and column indices 3 and 4\n",
            " [[14 32]\n",
            " [62 27]]\n"
          ]
        }
      ],
      "source": [
        "print(\"\\nSubsetting sub-matrices\\n--------------------------\")\n",
        "print(\"Matrix with row indices 1 and 2 and column indices 3 and 4\\n\", mat[1:3,3:5])\n"
      ]
    },
    {
      "cell_type": "code",
      "execution_count": null,
      "metadata": {
        "id": "1Ei8HNNp9wO9",
        "outputId": "2a75bb7e-8273-41e3-c51d-4f34a0ce6900"
      },
      "outputs": [
        {
          "name": "stdout",
          "output_type": "stream",
          "text": [
            "Matrix with row indices 0 and 1 and column indices 1 and 3\n",
            " [[77 69]\n",
            " [64 17]]\n"
          ]
        }
      ],
      "source": [
        "print(\"Matrix with row indices 0 and 1 and column indices 1 and 3\\n\", mat[0:2,[1,3]])"
      ]
    },
    {
      "cell_type": "markdown",
      "metadata": {
        "id": "Mp6GMgl-9wO9"
      },
      "source": [
        "# Subseting"
      ]
    },
    {
      "cell_type": "code",
      "execution_count": null,
      "metadata": {
        "id": "pFq5_rsq9wO9",
        "outputId": "3fdb920f-f667-4d16-9350-2878649d0aa9"
      },
      "outputs": [
        {
          "name": "stdout",
          "output_type": "stream",
          "text": [
            "Matrix of random 2-digit numbers\n",
            "--------------------------------\n",
            " [[51 99 67 32 43]\n",
            " [53 61 80 97 51]\n",
            " [82 76 18 26 11]]\n"
          ]
        },
        {
          "data": {
            "text/plain": [
              "array([[ True,  True,  True, False, False],\n",
              "       [ True,  True,  True,  True,  True],\n",
              "       [ True,  True, False, False, False]])"
            ]
          },
          "execution_count": 173,
          "metadata": {},
          "output_type": "execute_result"
        }
      ],
      "source": [
        "mat = np.array(ri(10,100,15)).reshape(3,5)\n",
        "print(\"Matrix of random 2-digit numbers\\n--------------------------------\\n\",mat)\n",
        "mat>50"
      ]
    },
    {
      "cell_type": "code",
      "execution_count": null,
      "metadata": {
        "id": "Rmn4rerx9wO-",
        "outputId": "b4646e8c-604c-4466-e6ad-2347911161cf"
      },
      "outputs": [
        {
          "name": "stdout",
          "output_type": "stream",
          "text": [
            "Elements greater than 50\n",
            " [51 99 67 53 61 80 97 51 82 76]\n"
          ]
        }
      ],
      "source": [
        "print (\"Elements greater than 50\\n\", mat[mat>50])"
      ]
    },
    {
      "cell_type": "markdown",
      "metadata": {
        "id": "wkxeGibV9wO_"
      },
      "source": [
        "# Slicing"
      ]
    },
    {
      "cell_type": "code",
      "execution_count": null,
      "metadata": {
        "id": "ONRrKK7E9wO_",
        "outputId": "4f00b4f7-6d29-48e9-b6d5-b4019c29eeb1"
      },
      "outputs": [
        {
          "name": "stdout",
          "output_type": "stream",
          "text": [
            "Original matrix\n",
            "[[11 12 13]\n",
            " [21 22 23]\n",
            " [31 32 33]]\n"
          ]
        }
      ],
      "source": [
        "mat = np.array([[11,12,13],[21,22,23],[31,32,33]])\n",
        "print(\"Original matrix\")\n",
        "print(mat)\n"
      ]
    },
    {
      "cell_type": "code",
      "execution_count": null,
      "metadata": {
        "id": "S2fFXR-V9wPA",
        "outputId": "030f750d-62bd-45b5-ef66-115087c20d65"
      },
      "outputs": [
        {
          "name": "stdout",
          "output_type": "stream",
          "text": [
            "\n",
            "Sliced matrix\n",
            "[[11 12]\n",
            " [21 22]]\n",
            "\n",
            "Change the sliced matrix\n"
          ]
        }
      ],
      "source": [
        "mat_slice = mat[:2,:2]\n",
        "print (\"\\nSliced matrix\")\n",
        "print(mat_slice)\n",
        "print (\"\\nChange the sliced matrix\")"
      ]
    },
    {
      "cell_type": "code",
      "execution_count": null,
      "metadata": {
        "id": "uXAHXHV59wPB",
        "outputId": "cb02ecde-0e0c-4ea0-d25d-daea3106e70e"
      },
      "outputs": [
        {
          "name": "stdout",
          "output_type": "stream",
          "text": [
            "[[1000   12]\n",
            " [  21   22]]\n"
          ]
        }
      ],
      "source": [
        "mat_slice[0,0] = 1000\n",
        "print (mat_slice)"
      ]
    },
    {
      "cell_type": "code",
      "execution_count": null,
      "metadata": {
        "id": "Io63Hs559wPF",
        "outputId": "d5a203b4-70f4-4f09-c3d5-c97f2078b5f9"
      },
      "outputs": [
        {
          "name": "stdout",
          "output_type": "stream",
          "text": [
            "\n",
            "But the original matrix? WHOA! It got changed too!\n",
            "[[11 12 13]\n",
            " [21 22 23]\n",
            " [31 32 33]]\n"
          ]
        }
      ],
      "source": [
        "print(\"\\nBut the original matrix? WHOA! It got changed too!\")\n",
        "print(mat)\n"
      ]
    },
    {
      "cell_type": "code",
      "execution_count": null,
      "metadata": {
        "id": "HBcU05j09wPF",
        "outputId": "3fc5e1df-8487-45e4-9511-b34c1f5c60df"
      },
      "outputs": [
        {
          "name": "stdout",
          "output_type": "stream",
          "text": [
            "\n",
            "Doing it again little differently now...\n",
            "\n",
            "Original matrix\n",
            "[[11 12 13]\n",
            " [21 22 23]\n",
            " [31 32 33]]\n"
          ]
        }
      ],
      "source": [
        "# Little different way to create a copy of the slixed matrix\n",
        "print (\"\\nDoing it again little differently now...\\n\")\n",
        "mat = np.array([[11,12,13],[21,22,23],[31,32,33]])\n",
        "print(\"Original matrix\")\n",
        "print(mat)\n"
      ]
    },
    {
      "cell_type": "code",
      "execution_count": null,
      "metadata": {
        "id": "7jctkWlu9wPG",
        "outputId": "4419a952-6d26-4854-cc9e-3770abd91165"
      },
      "outputs": [
        {
          "name": "stdout",
          "output_type": "stream",
          "text": [
            "\n",
            "Sliced matrix\n",
            "[[11 12]\n",
            " [21 22]]\n"
          ]
        }
      ],
      "source": [
        "mat_slice = np.array(mat[:2,:2]) # Notice the np.array command to create a new array not just slicing\n",
        "print (\"\\nSliced matrix\")\n",
        "print(mat_slice)\n"
      ]
    },
    {
      "cell_type": "code",
      "execution_count": null,
      "metadata": {
        "id": "zkS3hu709wPG",
        "outputId": "2d49512c-c5e1-4f9a-8f79-8818e8999ec3"
      },
      "outputs": [
        {
          "name": "stdout",
          "output_type": "stream",
          "text": [
            "\n",
            "Change the sliced matrix\n",
            "[[1000   12]\n",
            " [  21   22]]\n"
          ]
        }
      ],
      "source": [
        "print (\"\\nChange the sliced matrix\")\n",
        "mat_slice[0,0] = 1000\n",
        "print (mat_slice)\n"
      ]
    },
    {
      "cell_type": "code",
      "execution_count": null,
      "metadata": {
        "id": "ok7UZMjl9wPH",
        "outputId": "cf4e1f1d-f9b7-4c4e-fd8e-b250cd16a9dc"
      },
      "outputs": [
        {
          "name": "stdout",
          "output_type": "stream",
          "text": [
            "\n",
            "But the original matrix? NO CHANGE this time:)\n",
            "[[11 12 13]\n",
            " [21 22 23]\n",
            " [31 32 33]]\n"
          ]
        }
      ],
      "source": [
        "print(\"\\nBut the original matrix? NO CHANGE this time:)\")\n",
        "print(mat)"
      ]
    },
    {
      "cell_type": "markdown",
      "metadata": {
        "id": "SS_NRfy19wPI"
      },
      "source": [
        "# Universal Functions"
      ]
    },
    {
      "cell_type": "code",
      "execution_count": null,
      "metadata": {
        "id": "23FNGNUQ9wPI",
        "outputId": "30e6f170-d7b4-4e01-90eb-32a41effec9f"
      },
      "outputs": [
        {
          "name": "stdout",
          "output_type": "stream",
          "text": [
            "\n",
            "1st Matrix of random single-digit numbers\n",
            "----------------------------------------\n",
            " [[3 3 9]\n",
            " [6 1 8]\n",
            " [5 9 1]]\n",
            "\n",
            "2nd Matrix of random single-digit numbers\n",
            "----------------------------------------\n",
            " [[3 5 7]\n",
            " [4 4 9]\n",
            " [1 2 5]]\n"
          ]
        }
      ],
      "source": [
        "mat1 = np.array(ri(1,10,9)).reshape(3,3)\n",
        "mat2 = np.array(ri(1,10,9)).reshape(3,3)\n",
        "print(\"\\n1st Matrix of random single-digit numbers\\n----------------------------------------\\n\",mat1)\n",
        "print(\"\\n2nd Matrix of random single-digit numbers\\n----------------------------------------\\n\",mat2)\n"
      ]
    },
    {
      "cell_type": "code",
      "execution_count": null,
      "metadata": {
        "id": "x-fYqU-V9wPJ",
        "outputId": "5bb6ad0d-b800-430c-85f2-5a3d7c5eb595"
      },
      "outputs": [
        {
          "data": {
            "text/plain": [
              "array([[ 9, 15, 63],\n",
              "       [24,  4, 72],\n",
              "       [ 5, 18,  5]])"
            ]
          },
          "execution_count": 248,
          "metadata": {},
          "output_type": "execute_result"
        }
      ],
      "source": [
        "mat1*mat2"
      ]
    },
    {
      "cell_type": "code",
      "execution_count": null,
      "metadata": {
        "id": "v4uMp52a9wPK"
      },
      "outputs": [],
      "source": [
        ""
      ]
    },
    {
      "cell_type": "code",
      "execution_count": null,
      "metadata": {
        "id": "QayBfrYJ9wPK",
        "outputId": "07e5d5e2-b707-4e51-80e9-881a3e9fa401"
      },
      "outputs": [
        {
          "name": "stdout",
          "output_type": "stream",
          "text": [
            "\n",
            "Multiplication\n",
            "------------------\n",
            " [[ 30  45  93]\n",
            " [ 30  50  91]\n",
            " [ 52  63 121]]\n"
          ]
        }
      ],
      "source": [
        "#print(\"\\nAddition\\n------------------\\n\", mat1+mat2)\n",
        "print(\"\\nMultiplication\\n------------------\\n\", mat1@mat2)\n"
      ]
    },
    {
      "cell_type": "code",
      "execution_count": null,
      "metadata": {
        "id": "izwDv1kt9wPK",
        "outputId": "ca48f72b-e90c-4ef1-86a1-09235dc4f228"
      },
      "outputs": [
        {
          "name": "stdout",
          "output_type": "stream",
          "text": [
            "\n",
            "Division\n",
            "------------------\n",
            " [[inf inf inf]\n",
            " [inf inf inf]\n",
            " [inf inf inf]]\n"
          ]
        },
        {
          "name": "stderr",
          "output_type": "stream",
          "text": [
            "/Users/sudhanshukumar/anaconda3/lib/python3.7/site-packages/ipykernel_launcher.py:1: RuntimeWarning: divide by zero encountered in true_divide\n",
            "  \"\"\"Entry point for launching an IPython kernel.\n"
          ]
        }
      ],
      "source": [
        "print(\"\\nDivision\\n------------------\\n\", mat1/0)\n",
        "#print(\"\\nLineaer combination: 3*A - 2*B\\n-----------------------------\\n\", 3*mat1-2*mat2)\n"
      ]
    },
    {
      "cell_type": "code",
      "execution_count": null,
      "metadata": {
        "id": "UBPuLh1t9wPL",
        "outputId": "09aae9ab-747b-48b2-a58b-0b94e5bfeec1"
      },
      "outputs": [
        {
          "name": "stdout",
          "output_type": "stream",
          "text": [
            "\n",
            "Addition of a scalar (100)\n",
            "-------------------------\n",
            " [[103 103 109]\n",
            " [106 101 108]\n",
            " [105 109 101]]\n"
          ]
        }
      ],
      "source": [
        "print(\"\\nAddition of a scalar (100)\\n-------------------------\\n\", 100+mat1)\n"
      ]
    },
    {
      "cell_type": "code",
      "execution_count": null,
      "metadata": {
        "id": "WOmBf5kb9wPM",
        "outputId": "efe82f46-0812-4e07-e36e-a830205fec05"
      },
      "outputs": [
        {
          "name": "stdout",
          "output_type": "stream",
          "text": [
            "\n",
            "Exponentiation, matrix cubed here\n",
            "----------------------------------------\n",
            " [[ 27  27 729]\n",
            " [216   1 512]\n",
            " [125 729   1]]\n",
            "\n",
            "Exponentiation, sq-root using pow function\n",
            "-------------------------------------------\n",
            " [[ 27  27 729]\n",
            " [216   1 512]\n",
            " [125 729   1]]\n"
          ]
        }
      ],
      "source": [
        "print(\"\\nExponentiation, matrix cubed here\\n----------------------------------------\\n\", mat1**3)\n",
        "print(\"\\nExponentiation, sq-root using pow function\\n-------------------------------------------\\n\",pow(mat1,3))"
      ]
    },
    {
      "cell_type": "markdown",
      "metadata": {
        "id": "xXxt75hV9wPM"
      },
      "source": [
        "# Broadcasting"
      ]
    },
    {
      "cell_type": "code",
      "execution_count": null,
      "metadata": {
        "collapsed": true,
        "id": "rAuKdjtf9wPN"
      },
      "outputs": [],
      "source": [
        "#NumPy operations are usually done on pairs of arrays on an element-by-element basis. \n",
        "#In the simplest case, the two arrays must have exactly the same shape.\n",
        "#NumPy’s broadcasting rule relaxes this constraint when the arrays’ shapes meet certain constraints. \n",
        "#When operating on two arrays, NumPy compares their shapes element-wise. It starts with the trailing \n",
        "#dimensions, and works its way forward. Two dimensions are compatible when\n",
        "#they are equal, or one of them is 1"
      ]
    },
    {
      "cell_type": "code",
      "execution_count": null,
      "metadata": {
        "id": "AiX0qY6H9wPO",
        "outputId": "1a62b93f-9769-4a60-aeb8-dc208a02cc0b"
      },
      "outputs": [
        {
          "data": {
            "text/plain": [
              "array([[100., 100., 100., 100.],\n",
              "       [100., 100., 100., 100.],\n",
              "       [100., 100., 100., 100.],\n",
              "       [100., 100., 100., 100.]])"
            ]
          },
          "execution_count": 254,
          "metadata": {},
          "output_type": "execute_result"
        }
      ],
      "source": [
        "start = np.zeros((4,4))\n",
        "start= start+100\n",
        "start"
      ]
    },
    {
      "cell_type": "code",
      "execution_count": null,
      "metadata": {
        "id": "u6GpFQYp9wPP",
        "outputId": "de6975d7-1e4b-4f38-87b6-86a484f651c5"
      },
      "outputs": [
        {
          "name": "stdout",
          "output_type": "stream",
          "text": [
            "[1 0 2 5]\n"
          ]
        }
      ],
      "source": [
        "# create a rank 1 ndarray with 3 values\n",
        "add_rows = np.array([1, 0, 2,5])\n",
        "print(add_rows)"
      ]
    },
    {
      "cell_type": "code",
      "execution_count": null,
      "metadata": {
        "id": "gAk3Mh-p9wPP",
        "outputId": "f011dbba-a736-4f07-c3f4-93dccb98ff00"
      },
      "outputs": [
        {
          "name": "stdout",
          "output_type": "stream",
          "text": [
            "[[101. 100. 102. 105.]\n",
            " [101. 100. 102. 105.]\n",
            " [101. 100. 102. 105.]\n",
            " [101. 100. 102. 105.]]\n"
          ]
        }
      ],
      "source": [
        "y = start + add_rows  # add to each row of 'start' using broadcasting\n",
        "print(y)"
      ]
    },
    {
      "cell_type": "code",
      "execution_count": null,
      "metadata": {
        "id": "jP85CExY9wPQ",
        "outputId": "deb34371-45b2-466b-da3f-415a19ed9604"
      },
      "outputs": [
        {
          "name": "stdout",
          "output_type": "stream",
          "text": [
            "[[0]\n",
            " [1]\n",
            " [2]\n",
            " [3]]\n"
          ]
        }
      ],
      "source": [
        "# create an ndarray which is 4 x 1 to broadcast across columns\n",
        "add_cols = np.array([[0,1,2,3]])\n",
        "add_cols = add_cols.T\n",
        "print(add_cols)"
      ]
    },
    {
      "cell_type": "code",
      "execution_count": null,
      "metadata": {
        "id": "wWHECk3f9wPR",
        "outputId": "ed8207df-2ac4-411d-aec7-bff049bfd8e4"
      },
      "outputs": [
        {
          "name": "stdout",
          "output_type": "stream",
          "text": [
            "[[100. 100. 100. 100.]\n",
            " [101. 101. 101. 101.]\n",
            " [102. 102. 102. 102.]\n",
            " [103. 103. 103. 103.]]\n"
          ]
        }
      ],
      "source": [
        "# add to each column of 'start' using broadcasting\n",
        "y = start + add_cols \n",
        "print(y)"
      ]
    },
    {
      "cell_type": "code",
      "execution_count": null,
      "metadata": {
        "id": "D0yOlHzh9wPR",
        "outputId": "0e947d7d-09e4-47b3-86d8-ae3dcc7c3006"
      },
      "outputs": [
        {
          "name": "stdout",
          "output_type": "stream",
          "text": [
            "[[200. 200. 200. 200.]\n",
            " [201. 201. 201. 201.]\n",
            " [202. 202. 202. 202.]\n",
            " [203. 203. 203. 203.]]\n"
          ]
        }
      ],
      "source": [
        "# this will just broadcast in both dimensions\n",
        "add_scalar = np.array([100])  \n",
        "print(start+y)"
      ]
    },
    {
      "cell_type": "markdown",
      "metadata": {
        "id": "EF7CaZ_X9wPS"
      },
      "source": [
        "# Array Math"
      ]
    },
    {
      "cell_type": "code",
      "execution_count": null,
      "metadata": {
        "id": "ohsoezCJ9wPT",
        "outputId": "23fd8513-8cbf-404c-cea9-1519dd1d0da3"
      },
      "outputs": [
        {
          "name": "stdout",
          "output_type": "stream",
          "text": [
            "\n",
            "1st Matrix of random single-digit numbers\n",
            "\n",
            " [[9 5 4]\n",
            " [1 7 3]\n",
            " [8 3 5]]\n",
            "\n",
            "2nd Matrix of random single-digit numbers\n",
            "------------\n",
            " [[4 8 6]\n",
            " [7 6 8]\n",
            " [4 6 5]]\n"
          ]
        }
      ],
      "source": [
        "mat1 = np.array(ri(1,10,9)).reshape(3,3)\n",
        "mat2 = np.array(ri(1,10,9)).reshape(3,3)\n",
        "print(\"\\n1st Matrix of random single-digit numbers\\n\\n\",mat1)\n",
        "print(\"\\n2nd Matrix of random single-digit numbers\\n------------\\n\",mat2)\n"
      ]
    },
    {
      "cell_type": "code",
      "execution_count": null,
      "metadata": {
        "id": "-XjgPDsJ9wPU",
        "outputId": "5667fb63-7963-4958-8ec6-500563f518ce"
      },
      "outputs": [
        {
          "name": "stdout",
          "output_type": "stream",
          "text": [
            "\n",
            "Sq-root of 1st matrix using np\n",
            "------------------\n",
            " [[3.         2.23606798 2.        ]\n",
            " [1.         2.64575131 1.73205081]\n",
            " [2.82842712 1.73205081 2.23606798]]\n"
          ]
        }
      ],
      "source": [
        "print(\"\\nSq-root of 1st matrix using np\\n------------------\\n\", np.sqrt(mat1))\n"
      ]
    },
    {
      "cell_type": "code",
      "execution_count": null,
      "metadata": {
        "id": "0VYj-kSK9wPU",
        "outputId": "df93d218-6b6c-4a27-a621-fc6770dec715"
      },
      "outputs": [
        {
          "name": "stdout",
          "output_type": "stream",
          "text": [
            "\n",
            "Exponential power of 1st matrix using np\n",
            " -------------------------------------------------- \n",
            " [[8.10308393e+03 1.48413159e+02 5.45981500e+01]\n",
            " [2.71828183e+00 1.09663316e+03 2.00855369e+01]\n",
            " [2.98095799e+03 2.00855369e+01 1.48413159e+02]]\n"
          ]
        }
      ],
      "source": [
        "print(\"\\nExponential power of 1st matrix using np\\n\",'-'*50,\"\\n\", np.exp(mat1))\n"
      ]
    },
    {
      "cell_type": "code",
      "execution_count": null,
      "metadata": {
        "id": "JAiE3Lnp9wPV",
        "outputId": "933091d8-f091-498b-9ef0-59f07af811c8"
      },
      "outputs": [
        {
          "name": "stdout",
          "output_type": "stream",
          "text": [
            "\n",
            "10-base logarithm on 1st matrix using np\n",
            " -------------------------------------------------- \n",
            " [[0.95424251 0.69897    0.60205999]\n",
            " [0.         0.84509804 0.47712125]\n",
            " [0.90308999 0.47712125 0.69897   ]]\n",
            "[[9 5 4]\n",
            " [1 7 3]\n",
            " [8 3 5]]\n",
            "[[4 8 6]\n",
            " [7 6 8]\n",
            " [4 6 5]]\n"
          ]
        }
      ],
      "source": [
        "print(\"\\n10-base logarithm on 1st matrix using np\\n\",'-'*50,\"\\n\", np.log10(mat1))\n",
        "print(mat1)\n",
        "print(mat2)"
      ]
    },
    {
      "cell_type": "code",
      "execution_count": null,
      "metadata": {
        "id": "Lz57JAAO9wPW",
        "outputId": "9ea0faf9-b1c8-4059-d8e8-2b3b08109397"
      },
      "outputs": [
        {
          "name": "stdout",
          "output_type": "stream",
          "text": [
            "\n",
            "Modulo reminder using np\n",
            " -------------------------------------------------- \n",
            " [[1 5 4]\n",
            " [1 1 3]\n",
            " [0 3 0]]\n"
          ]
        },
        {
          "data": {
            "text/plain": [
              "array([[1, 5, 4],\n",
              "       [1, 1, 3],\n",
              "       [0, 3, 0]])"
            ]
          },
          "execution_count": 270,
          "metadata": {},
          "output_type": "execute_result"
        }
      ],
      "source": [
        "print(\"\\nModulo reminder using np\\n\",'-'*50,\"\\n\", np.fmod(mat1,mat2))\n",
        "mat1%mat2"
      ]
    },
    {
      "cell_type": "code",
      "execution_count": null,
      "metadata": {
        "id": "ualnw5s09wPW",
        "outputId": "7a963ae5-6806-47e5-bf5b-061d303ec7b9"
      },
      "outputs": [
        {
          "name": "stdout",
          "output_type": "stream",
          "text": [
            "\n",
            "Combination of functions by shwoing exponetial decay of a sine wave\n",
            " ----------------------------------------------------------------------\n"
          ]
        }
      ],
      "source": [
        "print(\"\\nCombination of functions by shwoing exponetial decay of a sine wave\\n\",'-'*70)\n"
      ]
    },
    {
      "cell_type": "code",
      "execution_count": null,
      "metadata": {
        "id": "hYWYyxnl9wPX"
      },
      "outputs": [],
      "source": [
        "A = np.linspace(0,12*np.pi,1001)\n"
      ]
    },
    {
      "cell_type": "code",
      "execution_count": null,
      "metadata": {
        "id": "hq0huqpS9wPX",
        "outputId": "3479d6d8-059b-45f4-a3fe-1d396dc3111c"
      },
      "outputs": [
        {
          "data": {
            "text/plain": [
              "array([ 0.        ,  0.03769911,  0.07539822, ..., 37.62371362,\n",
              "       37.66141273, 37.69911184])"
            ]
          },
          "execution_count": 208,
          "metadata": {},
          "output_type": "execute_result"
        }
      ],
      "source": [
        "A"
      ]
    },
    {
      "cell_type": "code",
      "execution_count": null,
      "metadata": {
        "id": "MWP6FAKS9wPY"
      },
      "outputs": [],
      "source": [
        ""
      ]
    }
  ],
  "metadata": {
    "kernelspec": {
      "display_name": "Python 3",
      "language": "python",
      "name": "python3"
    },
    "language_info": {
      "codemirror_mode": {
        "name": "ipython",
        "version": 3
      },
      "file_extension": ".py",
      "mimetype": "text/x-python",
      "name": "python",
      "nbconvert_exporter": "python",
      "pygments_lexer": "ipython3",
      "version": "3.7.1"
    },
    "colab": {
      "name": "Numpy_in_details.ipynb",
      "provenance": []
    }
  },
  "nbformat": 4,
  "nbformat_minor": 0
}